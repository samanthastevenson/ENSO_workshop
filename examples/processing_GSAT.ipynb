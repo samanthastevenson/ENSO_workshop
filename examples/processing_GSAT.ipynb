{
 "cells": [
  {
   "cell_type": "markdown",
   "id": "5200e178-3d0b-4e1a-8fca-17f3f5c7b985",
   "metadata": {},
   "source": [
    "# Preprocessing GSAT"
   ]
  },
  {
   "cell_type": "code",
   "execution_count": 1,
   "id": "252fe556-9b39-43be-b959-879f5cae74d3",
   "metadata": {},
   "outputs": [],
   "source": [
    "module load cdo"
   ]
  },
  {
   "cell_type": "code",
   "execution_count": 2,
   "id": "63076abd-b5b7-4665-a781-876ad0d89924",
   "metadata": {},
   "outputs": [],
   "source": [
    "basedir_MMLEA=/glade/collections/cdg/data/CLIVAR_LE\n",
    "basedir_out=/glade/scratch/$USER"
   ]
  },
  {
   "cell_type": "markdown",
   "id": "968505d7-1a93-40ab-94e7-e9eba58cf756",
   "metadata": {},
   "source": [
    "## MPI-GE"
   ]
  },
  {
   "cell_type": "code",
   "execution_count": 4,
   "id": "90dad4a1-4bf9-4893-a157-7f7c7bca1cdc",
   "metadata": {},
   "outputs": [],
   "source": [
    "idir=$basedir_MMLEA/mpi_lens/Amon/tas/"
   ]
  },
  {
   "cell_type": "code",
   "execution_count": 36,
   "id": "e9500d9e-ada6-4e2d-826e-e06690bf6f75",
   "metadata": {},
   "outputs": [],
   "source": [
    "cd $idir\n",
    "# ls\n"
   ]
  },
  {
   "cell_type": "code",
   "execution_count": 35,
   "id": "519e8260-c508-4a70-9f50-4081e7196420",
   "metadata": {
    "collapsed": true,
    "jupyter": {
     "outputs_hidden": true
    },
    "tags": []
   },
   "outputs": [
    {
     "name": "stdout",
     "output_type": "stream",
     "text": [
      "r1i1p1\n",
      "cdo    fldmean:                        1 1 1 1 1 1 1 1 1 1 2 2 2 2 2 2 2 2 2 2 3 3 3 3 3 3 3 3 3 3 4 4 4 4 4 4 4 4 4 4 5 5 5 5 5 5 5 5 5 5 6 6 6 6 6 6 6 6 6 6 7 7 7 7 7 7 7 7 7 7 8 8 8 8 8 8 8 8 8 8 9 9 9 9 9 9 9 9 9 910\u001b[32mcdo    fldmean: \u001b[0mProcessed 55296000 values from 1 variable over 3000 timesteps [1.15s 95MB].\n",
      "r2i1p1\n",
      "cdo    fldmean:                        1 1 1 1 1 1 1 1 1 1 2 2 2 2 2 2 2 2 2 2 3 3 3 3 3 3 3 3 3 3 4 4 4 4 4 4 4 4 4 4 5 5 5 5 5 5 5 5 5 5 6 6 6 6 6 6 6 6 6 6 7 7 7 7 7 7 7 7 7 7 8 8 8 8 8 8 8 8 8 8 9 9 9 9 9 9 9 9 9 910\u001b[32mcdo    fldmean: \u001b[0mProcessed 55296000 values from 1 variable over 3000 timesteps [1.18s 95MB].\n",
      "r3i1p1\n",
      "cdo    fldmean:                        1 1 1 1 1 1 1 1 1 1 2 2 2 2 2 2 2 2 2 2 3 3 3 3 3 3 3 3 3 3 4 4 4 4 4 4 4 4 4 4 5 5 5 5 5 5 5 5 5 5 6 6 6 6 6 6 6 6 6 6 7 7 7 7 7 7 7 7 7 7 8 8 8 8 8 8 8 8 8 8 9 9 9 9 9 9 9 9 9 910\u001b[32mcdo    fldmean: \u001b[0mProcessed 55296000 values from 1 variable over 3000 timesteps [1.15s 95MB].\n",
      "r4i1p1\n",
      "cdo    fldmean:                        1 1 1 1 1 1 1 1 1 1 2 2 2 2 2 2 2 2 2 2 3 3 3 3 3 3 3 3 3 3 4 4 4 4 4 4 4 4 4 4 5 5 5 5 5 5 5 5 5 5 6 6 6 6 6 6 6 6 6 6 7 7 7 7 7 7 7 7 7 7 8 8 8 8 8 8 8 8 8 8 9 9 9 9 9 9 9 9 9 910\u001b[32mcdo    fldmean: \u001b[0mProcessed 55296000 values from 1 variable over 3000 timesteps [1.16s 95MB].\n",
      "r5i1p1\n",
      "cdo    fldmean:                        1 1 1 1 1 1 1 1 1 1 2 2 2 2 2 2 2 2 2 2 3 3 3 3 3 3 3 3 3 3 4 4 4 4 4 4 4 4 4 4 5 5 5 5 5 5 5 5 5 5 6 6 6 6 6 6 6 6 6 6 7 7 7 7 7 7 7 7 7 7 8 8 8 8 8 8 8 8 8 8 9 9 9 9 9 9 9 9 9 910\u001b[32mcdo    fldmean: \u001b[0mProcessed 55296000 values from 1 variable over 3000 timesteps [1.17s 95MB].\n",
      "r6i1p1\n",
      "cdo    fldmean:                        1 1 1 1 1 1 1 1 1 1 2 2 2 2 2 2 2 2 2 2 3 3 3 3 3 3 3 3 3 3 4 4 4 4 4 4 4 4 4 4 5 5 5 5 5 5 5 5 5 5 6 6 6 6 6 6 6 6 6 6 7 7 7 7 7 7 7 7 7 7 8 8 8 8 8 8 8 8 8 8 9 9 9 9 9 9 9 9 9 910\u001b[32mcdo    fldmean: \u001b[0mProcessed 55296000 values from 1 variable over 3000 timesteps [1.18s 95MB].\n",
      "r7i1p1\n",
      "cdo    fldmean:                        1 1 1 1 1 1 1 1 1 1 2 2 2 2 2 2 2 2 2 2 3 3 3 3 3 3 3 3 3 3 4 4 4 4 4 4 4 4 4 4 5 5 5 5 5 5 5 5 5 5 6 6 6 6 6 6 6 6 6 6 7 7 7 7 7 7 7 7 7 7 8 8 8 8 8 8 8 8 8 8 9 9 9 9 9 9 9 9 9 910\u001b[32mcdo    fldmean: \u001b[0mProcessed 55296000 values from 1 variable over 3000 timesteps [1.16s 95MB].\n",
      "r8i1p1\n",
      "cdo    fldmean:                        1 1 1 1 1 1 1 1 1 1 2 2 2 2 2 2 2 2 2 2 3 3 3 3 3 3 3 3 3 3 4 4 4 4 4 4 4 4 4 4 5 5 5 5 5 5 5 5 5 5 6 6 6 6 6 6 6 6 6 6 7 7 7 7 7 7 7 7 7 7 8 8 8 8 8 8 8 8 8 8 9 9 9 9 9 9 9 9 9 910\u001b[32mcdo    fldmean: \u001b[0mProcessed 55296000 values from 1 variable over 3000 timesteps [1.16s 95MB].\n",
      "r9i1p1\n",
      "cdo    fldmean:                        1 1 1 1 1 1 1 1 1 1 2 2 2 2 2 2 2 2 2 2 3 3 3 3 3 3 3 3 3 3 4 4 4 4 4 4 4 4 4 4 5 5 5 5 5 5 5 5 5 5 6 6 6 6 6 6 6 6 6 6 7 7 7 7 7 7 7 7 7 7 8 8 8 8 8 8 8 8 8 8 9 9 9 9 9 9 9 9 9 910\u001b[32mcdo    fldmean: \u001b[0mProcessed 55296000 values from 1 variable over 3000 timesteps [1.21s 95MB].\n",
      "r10i1p1\n",
      "cdo    fldmean:                        1 1 1 1 1 1 1 1 1 1 2 2 2 2 2 2 2 2 2 2 3 3 3 3 3 3 3 3 3 3 4 4 4 4 4 4 4 4 4 4 5 5 5 5 5 5 5 5 5 5 6 6 6 6 6 6 6 6 6 6 7 7 7 7 7 7 7 7 7 7 8 8 8 8 8 8 8 8 8 8 9 9 9 9 9 9 9 9 9 910\u001b[32mcdo    fldmean: \u001b[0mProcessed 55296000 values from 1 variable over 3000 timesteps [1.23s 95MB].\n",
      "r11i1p1\n",
      "cdo    fldmean:                        1 1 1 1 1 1 1 1 1 1 2 2 2 2 2 2 2 2 2 2 3 3 3 3 3 3 3 3 3 3 4 4 4 4 4 4 4 4 4 4 5 5 5 5 5 5 5 5 5 5 6 6 6 6 6 6 6 6 6 6 7 7 7 7 7 7 7 7 7 7 8 8 8 8 8 8 8 8 8 8 9 9 9 9 9 9 9 9 9 910\u001b[32mcdo    fldmean: \u001b[0mProcessed 55296000 values from 1 variable over 3000 timesteps [1.16s 95MB].\n",
      "r12i1p1\n",
      "cdo    fldmean:                        1 1 1 1 1 1 1 1 1 1 2 2 2 2 2 2 2 2 2 2 3 3 3 3 3 3 3 3 3 3 4 4 4 4 4 4 4 4 4 4 5 5 5 5 5 5 5 5 5 5 6 6 6 6 6 6 6 6 6 6 7 7 7 7 7 7 7 7 7 7 8 8 8 8 8 8 8 8 8 8 9 9 9 9 9 9 9 9 9 910\u001b[32mcdo    fldmean: \u001b[0mProcessed 55296000 values from 1 variable over 3000 timesteps [1.18s 95MB].\n",
      "r13i1p1\n",
      "cdo    fldmean:                        1 1 1 1 1 1 1 1 1 1 2 2 2 2 2 2 2 2 2 2 3 3 3 3 3 3 3 3 3 3 4 4 4 4 4 4 4 4 4 4 5 5 5 5 5 5 5 5 5 5 6 6 6 6 6 6 6 6 6 6 7 7 7 7 7 7 7 7 7 7 8 8 8 8 8 8 8 8 8 8 9 9 9 9 9 9 9 9 9 910\u001b[32mcdo    fldmean: \u001b[0mProcessed 55296000 values from 1 variable over 3000 timesteps [1.16s 95MB].\n",
      "r14i1p1\n",
      "cdo    fldmean:                        1 1 1 1 1 1 1 1 1 1 2 2 2 2 2 2 2 2 2 2 3 3 3 3 3 3 3 3 3 3 4 4 4 4 4 4 4 4 4 4 5 5 5 5 5 5 5 5 5 5 6 6 6 6 6 6 6 6 6 6 7 7 7 7 7 7 7 7 7 7 8 8 8 8 8 8 8 8 8 8 9 9 9 9 9 9 9 9 9 910\u001b[32mcdo    fldmean: \u001b[0mProcessed 55296000 values from 1 variable over 3000 timesteps [1.17s 95MB].\n",
      "r15i1p1\n",
      "cdo    fldmean:                        1 1 1 1 1 1 1 1 1 1 2 2 2 2 2 2 2 2 2 2 3 3 3 3 3 3 3 3 3 3 4 4 4 4 4 4 4 4 4 4 5 5 5 5 5 5 5 5 5 5 6 6 6 6 6 6 6 6 6 6 7 7 7 7 7 7 7 7 7 7 8 8 8 8 8 8 8 8 8 8 9 9 9 9 9 9 9 9 9 910\u001b[32mcdo    fldmean: \u001b[0mProcessed 55296000 values from 1 variable over 3000 timesteps [1.15s 95MB].\n",
      "r16i1p1\n",
      "cdo    fldmean:                        1 1 1 1 1 1 1 1 1 1 2 2 2 2 2 2 2 2 2 2 3 3 3 3 3 3 3 3 3 3 4 4 4 4 4 4 4 4 4 4 5 5 5 5 5 5 5 5 5 5 6 6 6 6 6 6 6 6 6 6 7 7 7 7 7 7 7 7 7 7 8 8 8 8 8 8 8 8 8 8 9 9 9 9 9 9 9 9 9 910\u001b[32mcdo    fldmean: \u001b[0mProcessed 55296000 values from 1 variable over 3000 timesteps [1.17s 95MB].\n",
      "r17i1p1\n",
      "cdo    fldmean:                        1 1 1 1 1 1 1 1 1 1 2 2 2 2 2 2 2 2 2 2 3 3 3 3 3 3 3 3 3 3 4 4 4 4 4 4 4 4 4 4 5 5 5 5 5 5 5 5 5 5 6 6 6 6 6 6 6 6 6 6 7 7 7 7 7 7 7 7 7 7 8 8 8 8 8 8 8 8 8 8 9 9 9 9 9 9 9 9 9 910\u001b[32mcdo    fldmean: \u001b[0mProcessed 55296000 values from 1 variable over 3000 timesteps [1.16s 95MB].\n",
      "r18i1p1\n",
      "cdo    fldmean:                        1 1 1 1 1 1 1 1 1 1 2 2 2 2 2 2 2 2 2 2 3 3 3 3 3 3 3 3 3 3 4 4 4 4 4 4 4 4 4 4 5 5 5 5 5 5 5 5 5 5 6 6 6 6 6 6 6 6 6 6 7 7 7 7 7 7 7 7 7 7 8 8 8 8 8 8 8 8 8 8 9 9 9 9 9 9 9 9 9 910\u001b[32mcdo    fldmean: \u001b[0mProcessed 55296000 values from 1 variable over 3000 timesteps [1.16s 95MB].\n",
      "r19i1p1\n",
      "cdo    fldmean:                        1 1 1 1 1 1 1 1 1 1 2 2 2 2 2 2 2 2 2 2 3 3 3 3 3 3 3 3 3 3 4 4 4 4 4 4 4 4 4 4 5 5 5 5 5 5 5 5 5 5 6 6 6 6 6 6 6 6 6 6 7 7 7 7 7 7 7 7 7 7 8 8 8 8 8 8 8 8 8 8 9 9 9 9 9 9 9 9 9 910\u001b[32mcdo    fldmean: \u001b[0mProcessed 55296000 values from 1 variable over 3000 timesteps [1.17s 95MB].\n",
      "r20i1p1\n",
      "cdo    fldmean:                        1 1 1 1 1 1 1 1 1 1 2 2 2 2 2 2 2 2 2 2 3 3 3 3 3 3 3 3 3 3 4 4 4 4 4 4 4 4 4 4 5 5 5 5 5 5 5 5 5 5 6 6 6 6 6 6 6 6 6 6 7 7 7 7 7 7 7 7 7 7 8 8 8 8 8 8 8 8 8 8 9 9 9 9 9 9 9 9 9 910\u001b[32mcdo    fldmean: \u001b[0mProcessed 55296000 values from 1 variable over 3000 timesteps [1.20s 95MB].\n",
      "r21i1p1\n",
      "cdo    fldmean:                        1 1 1 1 1 1 1 1 1 1 2 2 2 2 2 2 2 2 2 2 3 3 3 3 3 3 3 3 3 3 4 4 4 4 4 4 4 4 4 4 5 5 5 5 5 5 5 5 5 5 6 6 6 6 6 6 6 6 6 6 7 7 7 7 7 7 7 7 7 7 8 8 8 8 8 8 8 8 8 8 9 9 9 9 9 9 9 9 9 910\u001b[32mcdo    fldmean: \u001b[0mProcessed 55296000 values from 1 variable over 3000 timesteps [1.24s 95MB].\n",
      "r22i1p1\n",
      "cdo    fldmean:                        1 1 1 1 1 1 1 1 1 1 2 2 2 2 2 2 2 2 2 2 3 3 3 3 3 3 3 3 3 3 4 4 4 4 4 4 4 4 4 4 5 5 5 5 5 5 5 5 5 5 6 6 6 6 6 6 6 6 6 6 7 7 7 7 7 7 7 7 7 7 8 8 8 8 8 8 8 8 8 8 9 9 9 9 9 9 9 9 9 910\u001b[32mcdo    fldmean: \u001b[0mProcessed 55296000 values from 1 variable over 3000 timesteps [1.20s 95MB].\n",
      "r23i1p1\n",
      "cdo    fldmean:                        1 1 1 1 1 1 1 1 1 1 2 2 2 2 2 2 2 2 2 2 3 3 3 3 3 3 3 3 3 3 4 4 4 4 4 4 4 4 4 4 5 5 5 5 5 5 5 5 5 5 6 6 6 6 6 6 6 6 6 6 7 7 7 7 7 7 7 7 7 7 8 8 8 8 8 8 8 8 8 8 9 9 9 9 9 9 9 9 9 910\u001b[32mcdo    fldmean: \u001b[0mProcessed 55296000 values from 1 variable over 3000 timesteps [1.17s 95MB].\n",
      "r24i1p1\n",
      "cdo    fldmean:                        1 1 1 1 1 1 1 1 1 1 2 2 2 2 2 2 2 2 2 2 3 3 3 3 3 3 3 3 3 3 4 4 4 4 4 4 4 4 4 4 5 5 5 5 5 5 5 5 5 5 6 6 6 6 6 6 6 6 6 6 7 7 7 7 7 7 7 7 7 7 8 8 8 8 8 8 8 8 8 8 9 9 9 9 9 9 9 9 9 910\u001b[32mcdo    fldmean: \u001b[0mProcessed 55296000 values from 1 variable over 3000 timesteps [1.17s 95MB].\n",
      "r25i1p1\n",
      "cdo    fldmean:                        1 1 1 1 1 1 1 1 1 1 2 2 2 2 2 2 2 2 2 2 3 3 3 3 3 3 3 3 3 3 4 4 4 4 4 4 4 4 4 4 5 5 5 5 5 5 5 5 5 5 6 6 6 6 6 6 6 6 6 6 7 7 7 7 7 7 7 7 7 7 8 8 8 8 8 8 8 8 8 8 9 9 9 9 9 9 9 9 9 910\u001b[32mcdo    fldmean: \u001b[0mProcessed 55296000 values from 1 variable over 3000 timesteps [1.20s 95MB].\n",
      "r26i1p1\n",
      "cdo    fldmean:                        1 1 1 1 1 1 1 1 1 1 2 2 2 2 2 2 2 2 2 2 3 3 3 3 3 3 3 3 3 3 4 4 4 4 4 4 4 4 4 4 5 5 5 5 5 5 5 5 5 5 6 6 6 6 6 6 6 6 6 6 7 7 7 7 7 7 7 7 7 7 8 8 8 8 8 8 8 8 8 8 9 9 9 9 9 9 9 9 9 910\u001b[32mcdo    fldmean: \u001b[0mProcessed 55296000 values from 1 variable over 3000 timesteps [5.46s 95MB].\n",
      "r27i1p1\n",
      "cdo    fldmean:                        1 1 1 1 1 1 1 1 1 1 2 2 2 2 2 2 2 2 2 2 3 3 3 3 3 3 3 3 3 3 4 4 4 4 4 4 4 4 4 4 5 5 5 5 5 5 5 5 5 5 6 6 6 6 6 6 6 6 6 6 7 7 7 7 7 7 7 7 7 7 8 8 8 8 8 8 8 8 8 8 9 9 9 9 9 9 9 9 9 910\u001b[32mcdo    fldmean: \u001b[0mProcessed 55296000 values from 1 variable over 3000 timesteps [1.19s 95MB].\n",
      "r28i1p1\n",
      "cdo    fldmean:                        1 1 1 1 1 1 1 1 1 1 2 2 2 2 2 2 2 2 2 2 3 3 3 3 3 3 3 3 3 3 4 4 4 4 4 4 4 4 4 4 5 5 5 5 5 5 5 5 5 5 6 6 6 6 6 6 6 6 6 6 7 7 7 7 7 7 7 7 7 7 8 8 8 8 8 8 8 8 8 8 9 9 9 9 9 9 9 9 9 910\u001b[32mcdo    fldmean: \u001b[0mProcessed 55296000 values from 1 variable over 3000 timesteps [1.18s 95MB].\n",
      "r29i1p1\n",
      "cdo    fldmean:                        1 1 1 1 1 1 1 1 1 1 2 2 2 2 2 2 2 2 2 2 3 3 3 3 3 3 3 3 3 3 4 4 4 4 4 4 4 4 4 4 5 5 5 5 5 5 5 5 5 5 6 6 6 6 6 6 6 6 6 6 7 7 7 7 7 7 7 7 7 7 8 8 8 8 8 8 8 8 8 8 9 9 9 9 9 9 9 9 9 910\u001b[32mcdo    fldmean: \u001b[0mProcessed 55296000 values from 1 variable over 3000 timesteps [1.17s 95MB].\n",
      "r30i1p1\n",
      "cdo    fldmean:                        1 1 1 1 1 1 1 1 1 1 2 2 2 2 2 2 2 2 2 2 3 3 3 3 3 3 3 3 3 3 4 4 4 4 4 4 4 4 4 4 5 5 5 5 5 5 5 5 5 5 6 6 6 6 6 6 6 6 6 6 7 7 7 7 7 7 7 7 7 7 8 8 8 8 8 8 8 8 8 8 9 9 9 9 9 9 9 9 9 910\u001b[32mcdo    fldmean: \u001b[0mProcessed 55296000 values from 1 variable over 3000 timesteps [1.17s 95MB].\n",
      "r31i1p1\n",
      "cdo    fldmean:                        1 1 1 1 1 1 1 1 1 1 2 2 2 2 2 2 2 2 2 2 3 3 3 3 3 3 3 3 3 3 4 4 4 4 4 4 4 4 4 4 5 5 5 5 5 5 5 5 5 5 6 6 6 6 6 6 6 6 6 6 7 7 7 7 7 7 7 7 7 7 8 8 8 8 8 8 8 8 8 8 9 9 9 9 9 9 9 9 9 910\u001b[32mcdo    fldmean: \u001b[0mProcessed 55296000 values from 1 variable over 3000 timesteps [1.23s 95MB].\n",
      "r32i1p1\n",
      "cdo    fldmean:                        1 1 1 1 1 1 1 1 1 1 2 2 2 2 2 2 2 2 2 2 3 3 3 3 3 3 3 3 3 3 4 4 4 4 4 4 4 4 4 4 5 5 5 5 5 5 5 5 5 5 6 6 6 6 6 6 6 6 6 6 7 7 7 7 7 7 7 7 7 7 8 8 8 8 8 8 8 8 8 8 9 9 9 9 9 9 9 9 9 910\u001b[32mcdo    fldmean: \u001b[0mProcessed 55296000 values from 1 variable over 3000 timesteps [1.16s 95MB].\n",
      "r33i1p1\n",
      "cdo    fldmean:                        1 1 1 1 1 1 1 1 1 1 2 2 2 2 2 2 2 2 2 2 3 3 3 3 3 3 3 3 3 3 4 4 4 4 4 4 4 4 4 4 5 5 5 5 5 5 5 5 5 5 6 6 6 6 6 6 6 6 6 6 7 7 7 7 7 7 7 7 7 7 8 8 8 8 8 8 8 8 8 8 9 9 9 9 9 9 9 9 9 910\u001b[32mcdo    fldmean: \u001b[0mProcessed 55296000 values from 1 variable over 3000 timesteps [1.17s 95MB].\n",
      "r34i1p1\n",
      "cdo    fldmean:                        1 1 1 1 1 1 1 1 1 1 2 2 2 2 2 2 2 2 2 2 3 3 3 3 3 3 3 3 3 3 4 4 4 4 4 4 4 4 4 4 5 5 5 5 5 5 5 5 5 5 6 6 6 6 6 6 6 6 6 6 7 7 7 7 7 7 7 7 7 7 8 8 8 8 8 8 8 8 8 8 9 9 9 9 9 9 9 9 9 910\u001b[32mcdo    fldmean: \u001b[0mProcessed 55296000 values from 1 variable over 3000 timesteps [1.19s 95MB].\n",
      "r35i1p1\n",
      "cdo    fldmean:                        1 1 1 1 1 1 1 1 1 1 2 2 2 2 2 2 2 2 2 2 3 3 3 3 3 3 3 3 3 3 4 4 4 4 4 4 4 4 4 4 5 5 5 5 5 5 5 5 5 5 6 6 6 6 6 6 6 6 6 6 7 7 7 7 7 7 7 7 7 7 8 8 8 8 8 8 8 8 8 8 9 9 9 9 9 9 9 9 9 910\u001b[32mcdo    fldmean: \u001b[0mProcessed 55296000 values from 1 variable over 3000 timesteps [1.18s 95MB].\n",
      "r36i1p1\n",
      "cdo    fldmean:                        1 1 1 1 1 1 1 1 1 1 2 2 2 2 2 2 2 2 2 2 3 3 3 3 3 3 3 3 3 3 4 4 4 4 4 4 4 4 4 4 5 5 5 5 5 5 5 5 5 5 6 6 6 6 6 6 6 6 6 6 7 7 7 7 7 7 7 7 7 7 8 8 8 8 8 8 8 8 8 8 9 9 9 9 9 9 9 9 9 910\u001b[32mcdo    fldmean: \u001b[0mProcessed 55296000 values from 1 variable over 3000 timesteps [1.16s 95MB].\n",
      "r37i1p1\n",
      "cdo    fldmean:                        1 1 1 1 1 1 1 1 1 1 2 2 2 2 2 2 2 2 2 2 3 3 3 3 3 3 3 3 3 3 4 4 4 4 4 4 4 4 4 4 5 5 5 5 5 5 5 5 5 5 6 6 6 6 6 6 6 6 6 6 7 7 7 7 7 7 7 7 7 7 8 8 8 8 8 8 8 8 8 8 9 9 9 9 9 9 9 9 9 910\u001b[32mcdo    fldmean: \u001b[0mProcessed 55296000 values from 1 variable over 3000 timesteps [1.19s 95MB].\n",
      "r38i1p1\n",
      "cdo    fldmean:                        1 1 1 1 1 1 1 1 1 1 2 2 2 2 2 2 2 2 2 2 3 3 3 3 3 3 3 3 3 3 4 4 4 4 4 4 4 4 4 4 5 5 5 5 5 5 5 5 5 5 6 6 6 6 6 6 6 6 6 6 7 7 7 7 7 7 7 7 7 7 8 8 8 8 8 8 8 8 8 8 9 9 9 9 9 9 9 9 9 910\u001b[32mcdo    fldmean: \u001b[0mProcessed 55296000 values from 1 variable over 3000 timesteps [1.18s 95MB].\n",
      "r39i1p1\n",
      "cdo    fldmean:                        1 1 1 1 1 1 1 1 1 1 2 2 2 2 2 2 2 2 2 2 3 3 3 3 3 3 3 3 3 3 4 4 4 4 4 4 4 4 4 4 5 5 5 5 5 5 5 5 5 5 6 6 6 6 6 6 6 6 6 6 7 7 7 7 7 7 7 7 7 7 8 8 8 8 8 8 8 8 8 8 9 9 9 9 9 9 9 9 9 910\u001b[32mcdo    fldmean: \u001b[0mProcessed 55296000 values from 1 variable over 3000 timesteps [1.21s 95MB].\n",
      "r40i1p1\n",
      "cdo    fldmean:                        1 1 1 1 1 1 1 1 1 1 2 2 2 2 2 2 2 2 2 2 3 3 3 3 3 3 3 3 3 3 4 4 4 4 4 4 4 4 4 4 5 5 5 5 5 5 5 5 5 5 6 6 6 6 6 6 6 6 6 6 7 7 7 7 7 7 7 7 7 7 8 8 8 8 8 8 8 8 8 8 9 9 9 9 9 9 9 9 9 910\u001b[32mcdo    fldmean: \u001b[0mProcessed 55296000 values from 1 variable over 3000 timesteps [1.17s 95MB].\n",
      "r41i1p1\n",
      "cdo    fldmean:                        1 1 1 1 1 1 1 1 1 1 2 2 2 2 2 2 2 2 2 2 3 3 3 3 3 3 3 3 3 3 4 4 4 4 4 4 4 4 4 4 5 5 5 5 5 5 5 5 5 5 6 6 6 6 6 6 6 6 6 6 7 7 7 7 7 7 7 7 7 7 8 8 8 8 8 8 8 8 8 8 9 9 9 9 9 9 9 9 9 910\u001b[32mcdo    fldmean: \u001b[0mProcessed 55296000 values from 1 variable over 3000 timesteps [1.16s 95MB].\n",
      "r42i1p1\n",
      "cdo    fldmean:                        1 1 1 1 1 1 1 1 1 1 2 2 2 2 2 2 2 2 2 2 3 3 3 3 3 3 3 3 3 3 4 4 4 4 4 4 4 4 4 4 5 5 5 5 5 5 5 5 5 5 6 6 6 6 6 6 6 6 6 6 7 7 7 7 7 7 7 7 7 7 8 8 8 8 8 8 8 8 8 8 9 9 9 9 9 9 9 9 9 910\u001b[32mcdo    fldmean: \u001b[0mProcessed 55296000 values from 1 variable over 3000 timesteps [1.19s 95MB].\n",
      "r43i1p1\n",
      "cdo    fldmean:                        1 1 1 1 1 1 1 1 1 1 2 2 2 2 2 2 2 2 2 2 3 3 3 3 3 3 3 3 3 3 4 4 4 4 4 4 4 4 4 4 5 5 5 5 5 5 5 5 5 5 6 6 6 6 6 6 6 6 6 6 7 7 7 7 7 7 7 7 7 7 8 8 8 8 8 8 8 8 8 8 9 9 9 9 9 9 9 9 9 910\u001b[32mcdo    fldmean: \u001b[0mProcessed 55296000 values from 1 variable over 3000 timesteps [1.16s 95MB].\n",
      "r44i1p1\n",
      "cdo    fldmean:                        1 1 1 1 1 1 1 1 1 1 2 2 2 2 2 2 2 2 2 2 3 3 3 3 3 3 3 3 3 3 4 4 4 4 4 4 4 4 4 4 5 5 5 5 5 5 5 5 5 5 6 6 6 6 6 6 6 6 6 6 7 7 7 7 7 7 7 7 7 7 8 8 8 8 8 8 8 8 8 8 9 9 9 9 9 9 9 9 9 910\u001b[32mcdo    fldmean: \u001b[0mProcessed 55296000 values from 1 variable over 3000 timesteps [1.16s 95MB].\n",
      "r45i1p1\n",
      "cdo    fldmean:                        1 1 1 1 1 1 1 1 1 1 2 2 2 2 2 2 2 2 2 2 3 3 3 3 3 3 3 3 3 3 4 4 4 4 4 4 4 4 4 4 5 5 5 5 5 5 5 5 5 5 6 6 6 6 6 6 6 6 6 6 7 7 7 7 7 7 7 7 7 7 8 8 8 8 8 8 8 8 8 8 9 9 9 9 9 9 9 9 9 910\u001b[32mcdo    fldmean: \u001b[0mProcessed 55296000 values from 1 variable over 3000 timesteps [1.16s 95MB].\n",
      "r46i1p1\n",
      "cdo    fldmean:                        1 1 1 1 1 1 1 1 1 1 2 2 2 2 2 2 2 2 2 2 3 3 3 3 3 3 3 3 3 3 4 4 4 4 4 4 4 4 4 4 5 5 5 5 5 5 5 5 5 5 6 6 6 6 6 6 6 6 6 6 7 7 7 7 7 7 7 7 7 7 8 8 8 8 8 8 8 8 8 8 9 9 9 9 9 9 9 9 9 910\u001b[32mcdo    fldmean: \u001b[0mProcessed 55296000 values from 1 variable over 3000 timesteps [1.21s 95MB].\n",
      "r47i1p1\n",
      "cdo    fldmean:                        1 1 1 1 1 1 1 1 1 1 2 2 2 2 2 2 2 2 2 2 3 3 3 3 3 3 3 3 3 3 4 4 4 4 4 4 4 4 4 4 5 5 5 5 5 5 5 5 5 5 6 6 6 6 6 6 6 6 6 6 7 7 7 7 7 7 7 7 7 7 8 8 8 8 8 8 8 8 8 8 9 9 9 9 9 9 9 9 9 910\u001b[32mcdo    fldmean: \u001b[0mProcessed 55296000 values from 1 variable over 3000 timesteps [1.20s 95MB].\n",
      "r48i1p1\n",
      "cdo    fldmean:                        1 1 1 1 1 1 1 1 1 1 2 2 2 2 2 2 2 2 2 2 3 3 3 3 3 3 3 3 3 3 4 4 4 4 4 4 4 4 4 4 5 5 5 5 5 5 5 5 5 5 6 6 6 6 6 6 6 6 6 6 7 7 7 7 7 7 7 7 7 7 8 8 8 8 8 8 8 8 8 8 9 9 9 9 9 9 9 9 9 910\u001b[32mcdo    fldmean: \u001b[0mProcessed 55296000 values from 1 variable over 3000 timesteps [1.15s 95MB].\n",
      "r49i1p1\n",
      "cdo    fldmean:                        1 1 1 1 1 1 1 1 1 1 2 2 2 2 2 2 2 2 2 2 3 3 3 3 3 3 3 3 3 3 4 4 4 4 4 4 4 4 4 4 5 5 5 5 5 5 5 5 5 5 6 6 6 6 6 6 6 6 6 6 7 7 7 7 7 7 7 7 7 7 8 8 8 8 8 8 8 8 8 8 9 9 9 9 9 9 9 9 9 910\u001b[32mcdo    fldmean: \u001b[0mProcessed 55296000 values from 1 variable over 3000 timesteps [1.17s 95MB].\n",
      "r50i1p1\n",
      "cdo    fldmean:                        1 1 1 1 1 1 1 1 1 1 2 2 2 2 2 2 2 2 2 2 3 3 3 3 3 3 3 3 3 3 4 4 4 4 4 4 4 4 4 4 5 5 5 5 5 5 5 5 5 5 6 6 6 6 6 6 6 6 6 6 7 7 7 7 7 7 7 7 7 7 8 8 8 8 8 8 8 8 8 8 9 9 9 9 9 9 9 9 9 910\u001b[32mcdo    fldmean: \u001b[0mProcessed 55296000 values from 1 variable over 3000 timesteps [1.15s 95MB].\n",
      "r51i1p1\n",
      "cdo    fldmean:                        1 1 1 1 1 1 1 1 1 1 2 2 2 2 2 2 2 2 2 2 3 3 3 3 3 3 3 3 3 3 4 4 4 4 4 4 4 4 4 4 5 5 5 5 5 5 5 5 5 5 6 6 6 6 6 6 6 6 6 6 7 7 7 7 7 7 7 7 7 7 8 8 8 8 8 8 8 8 8 8 9 9 9 9 9 9 9 9 9 910\u001b[32mcdo    fldmean: \u001b[0mProcessed 55296000 values from 1 variable over 3000 timesteps [1.15s 95MB].\n",
      "r52i1p1\n",
      "cdo    fldmean:                        1 1 1 1 1 1 1 1 1 1 2 2 2 2 2 2 2 2 2 2 3 3 3 3 3 3 3 3 3 3 4 4 4 4 4 4 4 4 4 4 5 5 5 5 5 5 5 5 5 5 6 6 6 6 6 6 6 6 6 6 7 7 7 7 7 7 7 7 7 7 8 8 8 8 8 8 8 8 8 8 9 9 9 9 9 9 9 9 9 910\u001b[32mcdo    fldmean: \u001b[0mProcessed 55296000 values from 1 variable over 3000 timesteps [1.21s 95MB].\n",
      "r53i1p1\n",
      "cdo    fldmean:                        1 1 1 1 1 1 1 1 1 1 2 2 2 2 2 2 2 2 2 2 3 3 3 3 3 3 3 3 3 3 4 4 4 4 4 4 4 4 4 4 5 5 5 5 5 5 5 5 5 5 6 6 6 6 6 6 6 6 6 6 7 7 7 7 7 7 7 7 7 7 8 8 8 8 8 8 8 8 8 8 9 9 9 9 9 9 9 9 9 910\u001b[32mcdo    fldmean: \u001b[0mProcessed 55296000 values from 1 variable over 3000 timesteps [1.20s 95MB].\n",
      "r54i1p1\n",
      "cdo    fldmean:                        1 1 1 1 1 1 1 1 1 1 2 2 2 2 2 2 2 2 2 2 3 3 3 3 3 3 3 3 3 3 4 4 4 4 4 4 4 4 4 4 5 5 5 5 5 5 5 5 5 5 6 6 6 6 6 6 6 6 6 6 7 7 7 7 7 7 7 7 7 7 8 8 8 8 8 8 8 8 8 8 9 9 9 9 9 9 9 9 9 910\u001b[32mcdo    fldmean: \u001b[0mProcessed 55296000 values from 1 variable over 3000 timesteps [1.20s 95MB].\n",
      "r55i1p1\n",
      "cdo    fldmean:                        1 1 1 1 1 1 1 1 1 1 2 2 2 2 2 2 2 2 2 2 3 3 3 3 3 3 3 3 3 3 4 4 4 4 4 4 4 4 4 4 5 5 5 5 5 5 5 5 5 5 6 6 6 6 6 6 6 6 6 6 7 7 7 7 7 7 7 7 7 7 8 8 8 8 8 8 8 8 8 8 9 9 9 9 9 9 9 9 9 910\u001b[32mcdo    fldmean: \u001b[0mProcessed 55296000 values from 1 variable over 3000 timesteps [1.17s 95MB].\n",
      "r56i1p1\n",
      "cdo    fldmean:                        1 1 1 1 1 1 1 1 1 1 2 2 2 2 2 2 2 2 2 2 3 3 3 3 3 3 3 3 3 3 4 4 4 4 4 4 4 4 4 4 5 5 5 5 5 5 5 5 5 5 6 6 6 6 6 6 6 6 6 6 7 7 7 7 7 7 7 7 7 7 8 8 8 8 8 8 8 8 8 8 9 9 9 9 9 9 9 9 9 910\u001b[32mcdo    fldmean: \u001b[0mProcessed 55296000 values from 1 variable over 3000 timesteps [1.17s 95MB].\n",
      "r57i1p1\n",
      "cdo    fldmean:                        1 1 1 1 1 1 1 1 1 1 2 2 2 2 2 2 2 2 2 2 3 3 3 3 3 3 3 3 3 3 4 4 4 4 4 4 4 4 4 4 5 5 5 5 5 5 5 5 5 5 6 6 6 6 6 6 6 6 6 6 7 7 7 7 7 7 7 7 7 7 8 8 8 8 8 8 8 8 8 8 9 9 9 9 9 9 9 9 9 910\u001b[32mcdo    fldmean: \u001b[0mProcessed 55296000 values from 1 variable over 3000 timesteps [1.16s 95MB].\n",
      "r58i1p1\n",
      "cdo    fldmean:                        1 1 1 1 1 1 1 1 1 1 2 2 2 2 2 2 2 2 2 2 3 3 3 3 3 3 3 3 3 3 4 4 4 4 4 4 4 4 4 4 5 5 5 5 5 5 5 5 5 5 6 6 6 6 6 6 6 6 6 6 7 7 7 7 7 7 7 7 7 7 8 8 8 8 8 8 8 8 8 8 9 9 9 9 9 9 9 9 9 910\u001b[32mcdo    fldmean: \u001b[0mProcessed 55296000 values from 1 variable over 3000 timesteps [1.16s 95MB].\n",
      "r59i1p1\n",
      "cdo    fldmean:                        1 1 1 1 1 1 1 1 1 1 2 2 2 2 2 2 2 2 2 2 3 3 3 3 3 3 3 3 3 3 4 4 4 4 4 4 4 4 4 4 5 5 5 5 5 5 5 5 5 5 6 6 6 6 6 6 6 6 6 6 7 7 7 7 7 7 7 7 7 7 8 8 8 8 8 8 8 8 8 8 9 9 9 9 9 9 9 9 9 910\u001b[32mcdo    fldmean: \u001b[0mProcessed 55296000 values from 1 variable over 3000 timesteps [1.17s 95MB].\n",
      "r60i1p1\n",
      "cdo    fldmean:                        1 1 1 1 1 1 1 1 1 1 2 2 2 2 2 2 2 2 2 2 3 3 3 3 3 3 3 3 3 3 4 4 4 4 4 4 4 4 4 4 5 5 5 5 5 5 5 5 5 5 6 6 6 6 6 6 6 6 6 6 7 7 7 7 7 7 7 7 7 7 8 8 8 8 8 8 8 8 8 8 9 9 9 9 9 9 9 9 9 910\u001b[32mcdo    fldmean: \u001b[0mProcessed 55296000 values from 1 variable over 3000 timesteps [1.17s 95MB].\n",
      "r61i1p1\n",
      "cdo    fldmean:                        1 1 1 1 1 1 1 1 1 1 2 2 2 2 2 2 2 2 2 2 3 3 3 3 3 3 3 3 3 3 4 4 4 4 4 4 4 4 4 4 5 5 5 5 5 5 5 5 5 5 6 6 6 6 6 6 6 6 6 6 7 7 7 7 7 7 7 7 7 7 8 8 8 8 8 8 8 8 8 8 9 9 9 9 9 9 9 9 9 910\u001b[32mcdo    fldmean: \u001b[0mProcessed 55296000 values from 1 variable over 3000 timesteps [1.17s 95MB].\n",
      "r62i1p1\n",
      "cdo    fldmean:                        1 1 1 1 1 1 1 1 1 1 2 2 2 2 2 2 2 2 2 2 3 3 3 3 3 3 3 3 3 3 4 4 4 4 4 4 4 4 4 4 5 5 5 5 5 5 5 5 5 5 6 6 6 6 6 6 6 6 6 6 7 7 7 7 7 7 7 7 7 7 8 8 8 8 8 8 8 8 8 8 9 9 9 9 9 9 9 9 9 910\u001b[32mcdo    fldmean: \u001b[0mProcessed 55296000 values from 1 variable over 3000 timesteps [1.18s 95MB].\n",
      "r63i1p1\n",
      "cdo    fldmean:                        1 1 1 1 1 1 1 1 1 1 2 2 2 2 2 2 2 2 2 2 3 3 3 3 3 3 3 3 3 3 4 4 4 4 4 4 4 4 4 4 5 5 5 5 5 5 5 5 5 5 6 6 6 6 6 6 6 6 6 6 7 7 7 7 7 7 7 7 7 7 8 8 8 8 8 8 8 8 8 8 9 9 9 9 9 9 9 9 9 910\u001b[32mcdo    fldmean: \u001b[0mProcessed 55296000 values from 1 variable over 3000 timesteps [1.17s 95MB].\n",
      "r64i1p1\n",
      "cdo    fldmean:                        1 1 1 1 1 1 1 1 1 1 2 2 2 2 2 2 2 2 2 2 3 3 3 3 3 3 3 3 3 3 4 4 4 4 4 4 4 4 4 4 5 5 5 5 5 5 5 5 5 5 6 6 6 6 6 6 6 6 6 6 7 7 7 7 7 7 7 7 7 7 8 8 8 8 8 8 8 8 8 8 9 9 9 9 9 9 9 9 9 910\u001b[32mcdo    fldmean: \u001b[0mProcessed 55296000 values from 1 variable over 3000 timesteps [1.13s 95MB].\n",
      "r65i1p1\n",
      "cdo    fldmean:                        1 1 1 1 1 1 1 1 1 1 2 2 2 2 2 2 2 2 2 2 3 3 3 3 3 3 3 3 3 3 4 4 4 4 4 4 4 4 4 4 5 5 5 5 5 5 5 5 5 5 6 6 6 6 6 6 6 6 6 6 7 7 7 7 7 7 7 7 7 7 8 8 8 8 8 8 8 8 8 8 9 9 9 9 9 9 9 9 9 910\u001b[32mcdo    fldmean: \u001b[0mProcessed 55296000 values from 1 variable over 3000 timesteps [1.14s 95MB].\n",
      "r66i1p1\n",
      "cdo    fldmean:                        1 1 1 1 1 1 1 1 1 1 2 2 2 2 2 2 2 2 2 2 3 3 3 3 3 3 3 3 3 3 4 4 4 4 4 4 4 4 4 4 5 5 5 5 5 5 5 5 5 5 6 6 6 6 6 6 6 6 6 6 7 7 7 7 7 7 7 7 7 7 8 8 8 8 8 8 8 8 8 8 9 9 9 9 9 9 9 9 9 910\u001b[32mcdo    fldmean: \u001b[0mProcessed 55296000 values from 1 variable over 3000 timesteps [1.18s 95MB].\n",
      "r67i1p1\n",
      "cdo    fldmean:                        1 1 1 1 1 1 1 1 1 1 2 2 2 2 2 2 2 2 2 2 3 3 3 3 3 3 3 3 3 3 4 4 4 4 4 4 4 4 4 4 5 5 5 5 5 5 5 5 5 5 6 6 6 6 6 6 6 6 6 6 7 7 7 7 7 7 7 7 7 7 8 8 8 8 8 8 8 8 8 8 9 9 9 9 9 9 9 9 9 910\u001b[32mcdo    fldmean: \u001b[0mProcessed 55296000 values from 1 variable over 3000 timesteps [1.18s 95MB].\n",
      "r68i1p1\n",
      "cdo    fldmean:                        1 1 1 1 1 1 1 1 1 1 2 2 2 2 2 2 2 2 2 2 3 3 3 3 3 3 3 3 3 3 4 4 4 4 4 4 4 4 4 4 5 5 5 5 5 5 5 5 5 5 6 6 6 6 6 6 6 6 6 6 7 7 7 7 7 7 7 7 7 7 8 8 8 8 8 8 8 8 8 8 9 9 9 9 9 9 9 9 9 910\u001b[32mcdo    fldmean: \u001b[0mProcessed 55296000 values from 1 variable over 3000 timesteps [1.19s 95MB].\n",
      "r69i1p1\n",
      "cdo    fldmean:                        1 1 1 1 1 1 1 1 1 1 2 2 2 2 2 2 2 2 2 2 3 3 3 3 3 3 3 3 3 3 4 4 4 4 4 4 4 4 4 4 5 5 5 5 5 5 5 5 5 5 6 6 6 6 6 6 6 6 6 6 7 7 7 7 7 7 7 7 7 7 8 8 8 8 8 8 8 8 8 8 9 9 9 9 9 9 9 9 9 910\u001b[32mcdo    fldmean: \u001b[0mProcessed 55296000 values from 1 variable over 3000 timesteps [1.16s 95MB].\n",
      "r70i1p1\n",
      "cdo    fldmean:                        1 1 1 1 1 1 1 1 1 1 2 2 2 2 2 2 2 2 2 2 3 3 3 3 3 3 3 3 3 3 4 4 4 4 4 4 4 4 4 4 5 5 5 5 5 5 5 5 5 5 6 6 6 6 6 6 6 6 6 6 7 7 7 7 7 7 7 7 7 7 8 8 8 8 8 8 8 8 8 8 9 9 9 9 9 9 9 9 9 910\u001b[32mcdo    fldmean: \u001b[0mProcessed 55296000 values from 1 variable over 3000 timesteps [1.17s 95MB].\n",
      "r71i1p1\n",
      "cdo    fldmean:                        1 1 1 1 1 1 1 1 1 1 2 2 2 2 2 2 2 2 2 2 3 3 3 3 3 3 3 3 3 3 4 4 4 4 4 4 4 4 4 4 5 5 5 5 5 5 5 5 5 5 6 6 6 6 6 6 6 6 6 6 7 7 7 7 7 7 7 7 7 7 8 8 8 8 8 8 8 8 8 8 9 9 9 9 9 9 9 9 9 910\u001b[32mcdo    fldmean: \u001b[0mProcessed 55296000 values from 1 variable over 3000 timesteps [1.17s 95MB].\n",
      "r72i1p1\n",
      "cdo    fldmean:                        1 1 1 1 1 1 1 1 1 1 2 2 2 2 2 2 2 2 2 2 3 3 3 3 3 3 3 3 3 3 4 4 4 4 4 4 4 4 4 4 5 5 5 5 5 5 5 5 5 5 6 6 6 6 6 6 6 6 6 6 7 7 7 7 7 7 7 7 7 7 8 8 8 8 8 8 8 8 8 8 9 9 9 9 9 9 9 9 9 910\u001b[32mcdo    fldmean: \u001b[0mProcessed 55296000 values from 1 variable over 3000 timesteps [1.19s 95MB].\n",
      "r73i1p1\n",
      "cdo    fldmean:                        1 1 1 1 1 1 1 1 1 1 2 2 2 2 2 2 2 2 2 2 3 3 3 3 3 3 3 3 3 3 4 4 4 4 4 4 4 4 4 4 5 5 5 5 5 5 5 5 5 5 6 6 6 6 6 6 6 6 6 6 7 7 7 7 7 7 7 7 7 7 8 8 8 8 8 8 8 8 8 8 9 9 9 9 9 9 9 9 9 910\u001b[32mcdo    fldmean: \u001b[0mProcessed 55296000 values from 1 variable over 3000 timesteps [1.15s 95MB].\n",
      "r74i1p1\n",
      "cdo    fldmean:                        1 1 1 1 1 1 1 1 1 1 2 2 2 2 2 2 2 2 2 2 3 3 3 3 3 3 3 3 3 3 4 4 4 4 4 4 4 4 4 4 5 5 5 5 5 5 5 5 5 5 6 6 6 6 6 6 6 6 6 6 7 7 7 7 7 7 7 7 7 7 8 8 8 8 8 8 8 8 8 8 9 9 9 9 9 9 9 9 9 910\u001b[32mcdo    fldmean: \u001b[0mProcessed 55296000 values from 1 variable over 3000 timesteps [1.17s 95MB].\n",
      "r75i1p1\n",
      "cdo    fldmean:                        1 1 1 1 1 1 1 1 1 1 2 2 2 2 2 2 2 2 2 2 3 3 3 3 3 3 3 3 3 3 4 4 4 4 4 4 4 4 4 4 5 5 5 5 5 5 5 5 5 5 6 6 6 6 6 6 6 6 6 6 7 7 7 7 7 7 7 7 7 7 8 8 8 8 8 8 8 8 8 8 9 9 9 9 9 9 9 9 9 910\u001b[32mcdo    fldmean: \u001b[0mProcessed 55296000 values from 1 variable over 3000 timesteps [1.20s 95MB].\n",
      "r76i1p1\n",
      "cdo    fldmean:                        1 1 1 1 1 1 1 1 1 1 2 2 2 2 2 2 2 2 2 2 3 3 3 3 3 3 3 3 3 3 4 4 4 4 4 4 4 4 4 4 5 5 5 5 5 5 5 5 5 5 6 6 6 6 6 6 6 6 6 6 7 7 7 7 7 7 7 7 7 7 8 8 8 8 8 8 8 8 8 8 9 9 9 9 9 9 9 9 9 910\u001b[32mcdo    fldmean: \u001b[0mProcessed 55296000 values from 1 variable over 3000 timesteps [1.26s 95MB].\n",
      "r77i1p1\n",
      "cdo    fldmean:                        1 1 1 1 1 1 1 1 1 1 2 2 2 2 2 2 2 2 2 2 3 3 3 3 3 3 3 3 3 3 4 4 4 4 4 4 4 4 4 4 5 5 5 5 5 5 5 5 5 5 6 6 6 6 6 6 6 6 6 6 7 7 7 7 7 7 7 7 7 7 8 8 8 8 8 8 8 8 8 8 9 9 9 9 9 9 9 9 9 910\u001b[32mcdo    fldmean: \u001b[0mProcessed 55296000 values from 1 variable over 3000 timesteps [1.17s 95MB].\n",
      "r78i1p1\n",
      "cdo    fldmean:                        1 1 1 1 1 1 1 1 1 1 2 2 2 2 2 2 2 2 2 2 3 3 3 3 3 3 3 3 3 3 4 4 4 4 4 4 4 4 4 4 5 5 5 5 5 5 5 5 5 5 6 6 6 6 6 6 6 6 6 6 7 7 7 7 7 7 7 7 7 7 8 8 8 8 8 8 8 8 8 8 9 9 9 9 9 9 9 9 9 910\u001b[32mcdo    fldmean: \u001b[0mProcessed 55296000 values from 1 variable over 3000 timesteps [1.19s 95MB].\n",
      "r79i1p1\n",
      "cdo    fldmean:                        1 1 1 1 1 1 1 1 1 1 2 2 2 2 2 2 2 2 2 2 3 3 3 3 3 3 3 3 3 3 4 4 4 4 4 4 4 4 4 4 5 5 5 5 5 5 5 5 5 5 6 6 6 6 6 6 6 6 6 6 7 7 7 7 7 7 7 7 7 7 8 8 8 8 8 8 8 8 8 8 9 9 9 9 9 9 9 9 9 910\u001b[32mcdo    fldmean: \u001b[0mProcessed 55296000 values from 1 variable over 3000 timesteps [1.16s 95MB].\n",
      "r80i1p1\n",
      "cdo    fldmean:                        1 1 1 1 1 1 1 1 1 1 2 2 2 2 2 2 2 2 2 2 3 3 3 3 3 3 3 3 3 3 4 4 4 4 4 4 4 4 4 4 5 5 5 5 5 5 5 5 5 5 6 6 6 6 6 6 6 6 6 6 7 7 7 7 7 7 7 7 7 7 8 8 8 8 8 8 8 8 8 8 9 9 9 9 9 9 9 9 9 910\u001b[32mcdo    fldmean: \u001b[0mProcessed 55296000 values from 1 variable over 3000 timesteps [1.13s 95MB].\n",
      "r81i1p1\n",
      "cdo    fldmean:                        1 1 1 1 1 1 1 1 1 1 2 2 2 2 2 2 2 2 2 2 3 3 3 3 3 3 3 3 3 3 4 4 4 4 4 4 4 4 4 4 5 5 5 5 5 5 5 5 5 5 6 6 6 6 6 6 6 6 6 6 7 7 7 7 7 7 7 7 7 7 8 8 8 8 8 8 8 8 8 8 9 9 9 9 9 9 9 9 9 910\u001b[32mcdo    fldmean: \u001b[0mProcessed 55296000 values from 1 variable over 3000 timesteps [1.17s 95MB].\n",
      "r82i1p1\n",
      "cdo    fldmean:                        1 1 1 1 1 1 1 1 1 1 2 2 2 2 2 2 2 2 2 2 3 3 3 3 3 3 3 3 3 3 4 4 4 4 4 4 4 4 4 4 5 5 5 5 5 5 5 5 5 5 6 6 6 6 6 6 6 6 6 6 7 7 7 7 7 7 7 7 7 7 8 8 8 8 8 8 8 8 8 8 9 9 9 9 9 9 9 9 9 910\u001b[32mcdo    fldmean: \u001b[0mProcessed 55296000 values from 1 variable over 3000 timesteps [1.16s 95MB].\n",
      "r83i1p1\n",
      "cdo    fldmean:                        1 1 1 1 1 1 1 1 1 1 2 2 2 2 2 2 2 2 2 2 3 3 3 3 3 3 3 3 3 3 4 4 4 4 4 4 4 4 4 4 5 5 5 5 5 5 5 5 5 5 6 6 6 6 6 6 6 6 6 6 7 7 7 7 7 7 7 7 7 7 8 8 8 8 8 8 8 8 8 8 9 9 9 9 9 9 9 9 9 910\u001b[32mcdo    fldmean: \u001b[0mProcessed 55296000 values from 1 variable over 3000 timesteps [1.15s 95MB].\n",
      "r84i1p1\n",
      "cdo    fldmean:                        1 1 1 1 1 1 1 1 1 1 2 2 2 2 2 2 2 2 2 2 3 3 3 3 3 3 3 3 3 3 4 4 4 4 4 4 4 4 4 4 5 5 5 5 5 5 5 5 5 5 6 6 6 6 6 6 6 6 6 6 7 7 7 7 7 7 7 7 7 7 8 8 8 8 8 8 8 8 8 8 9 9 9 9 9 9 9 9 9 910\u001b[32mcdo    fldmean: \u001b[0mProcessed 55296000 values from 1 variable over 3000 timesteps [1.18s 95MB].\n",
      "r85i1p1\n",
      "cdo    fldmean:                        1 1 1 1 1 1 1 1 1 1 2 2 2 2 2 2 2 2 2 2 3 3 3 3 3 3 3 3 3 3 4 4 4 4 4 4 4 4 4 4 5 5 5 5 5 5 5 5 5 5 6 6 6 6 6 6 6 6 6 6 7 7 7 7 7 7 7 7 7 7 8 8 8 8 8 8 8 8 8 8 9 9 9 9 9 9 9 9 9 910\u001b[32mcdo    fldmean: \u001b[0mProcessed 55296000 values from 1 variable over 3000 timesteps [1.18s 95MB].\n",
      "r86i1p1\n",
      "cdo    fldmean:                        1 1 1 1 1 1 1 1 1 1 2 2 2 2 2 2 2 2 2 2 3 3 3 3 3 3 3 3 3 3 4 4 4 4 4 4 4 4 4 4 5 5 5 5 5 5 5 5 5 5 6 6 6 6 6 6 6 6 6 6 7 7 7 7 7 7 7 7 7 7 8 8 8 8 8 8 8 8 8 8 9 9 9 9 9 9 9 9 9 910\u001b[32mcdo    fldmean: \u001b[0mProcessed 55296000 values from 1 variable over 3000 timesteps [1.17s 95MB].\n",
      "r87i1p1\n",
      "cdo    fldmean:                        1 1 1 1 1 1 1 1 1 1 2 2 2 2 2 2 2 2 2 2 3 3 3 3 3 3 3 3 3 3 4 4 4 4 4 4 4 4 4 4 5 5 5 5 5 5 5 5 5 5 6 6 6 6 6 6 6 6 6 6 7 7 7 7 7 7 7 7 7 7 8 8 8 8 8 8 8 8 8 8 9 9 9 9 9 9 9 9 9 910\u001b[32mcdo    fldmean: \u001b[0mProcessed 55296000 values from 1 variable over 3000 timesteps [1.20s 95MB].\n",
      "r88i1p1\n",
      "cdo    fldmean:                        1 1 1 1 1 1 1 1 1 1 2 2 2 2 2 2 2 2 2 2 3 3 3 3 3 3 3 3 3 3 4 4 4 4 4 4 4 4 4 4 5 5 5 5 5 5 5 5 5 5 6 6 6 6 6 6 6 6 6 6 7 7 7 7 7 7 7 7 7 7 8 8 8 8 8 8 8 8 8 8 9 9 9 9 9 9 9 9 9 910\u001b[32mcdo    fldmean: \u001b[0mProcessed 55296000 values from 1 variable over 3000 timesteps [1.17s 95MB].\n",
      "r89i1p1\n",
      "cdo    fldmean:                        1 1 1 1 1 1 1 1 1 1 2 2 2 2 2 2 2 2 2 2 3 3 3 3 3 3 3 3 3 3 4 4 4 4 4 4 4 4 4 4 5 5 5 5 5 5 5 5 5 5 6 6 6 6 6 6 6 6 6 6 7 7 7 7 7 7 7 7 7 7 8 8 8 8 8 8 8 8 8 8 9 9 9 9 9 9 9 9 9 910\u001b[32mcdo    fldmean: \u001b[0mProcessed 55296000 values from 1 variable over 3000 timesteps [1.17s 95MB].\n",
      "r90i1p1\n",
      "cdo    fldmean:                        1 1 1 1 1 1 1 1 1 1 2 2 2 2 2 2 2 2 2 2 3 3 3 3 3 3 3 3 3 3 4 4 4 4 4 4 4 4 4 4 5 5 5 5 5 5 5 5 5 5 6 6 6 6 6 6 6 6 6 6 7 7 7 7 7 7 7 7 7 7 8 8 8 8 8 8 8 8 8 8 9 9 9 9 9 9 9 9 9 910\u001b[32mcdo    fldmean: \u001b[0mProcessed 55296000 values from 1 variable over 3000 timesteps [1.18s 95MB].\n",
      "r91i1p1\n",
      "cdo    fldmean:                        1 1 1 1 1 1 1 1 1 1 2 2 2 2 2 2 2 2 2 2 3 3 3 3 3 3 3 3 3 3 4 4 4 4 4 4 4 4 4 4 5 5 5 5 5 5 5 5 5 5 6 6 6 6 6 6 6 6 6 6 7 7 7 7 7 7 7 7 7 7 8 8 8 8 8 8 8 8 8 8 9 9 9 9 9 9 9 9 9 910\u001b[32mcdo    fldmean: \u001b[0mProcessed 55296000 values from 1 variable over 3000 timesteps [1.17s 95MB].\n",
      "r92i1p1\n",
      "cdo    fldmean:                        1 1 1 1 1 1 1 1 1 1 2 2 2 2 2 2 2 2 2 2 3 3 3 3 3 3 3 3 3 3 4 4 4 4 4 4 4 4 4 4 5 5 5 5 5 5 5 5 5 5 6 6 6 6 6 6 6 6 6 6 7 7 7 7 7 7 7 7 7 7 8 8 8 8 8 8 8 8 8 8 9 9 9 9 9 9 9 9 9 910\u001b[32mcdo    fldmean: \u001b[0mProcessed 55296000 values from 1 variable over 3000 timesteps [1.22s 95MB].\n",
      "r93i1p1\n",
      "cdo    fldmean:                        1 1 1 1 1 1 1 1 1 1 2 2 2 2 2 2 2 2 2 2 3 3 3 3 3 3 3 3 3 3 4 4 4 4 4 4 4 4 4 4 5 5 5 5 5 5 5 5 5 5 6 6 6 6 6 6 6 6 6 6 7 7 7 7 7 7 7 7 7 7 8 8 8 8 8 8 8 8 8 8 9 9 9 9 9 9 9 9 9 910\u001b[32mcdo    fldmean: \u001b[0mProcessed 55296000 values from 1 variable over 3000 timesteps [1.17s 95MB].\n",
      "r94i1p1\n",
      "cdo    fldmean:                        1 1 1 1 1 1 1 1 1 1 2 2 2 2 2 2 2 2 2 2 3 3 3 3 3 3 3 3 3 3 4 4 4 4 4 4 4 4 4 4 5 5 5 5 5 5 5 5 5 5 6 6 6 6 6 6 6 6 6 6 7 7 7 7 7 7 7 7 7 7 8 8 8 8 8 8 8 8 8 8 9 9 9 9 9 9 9 9 9 910\u001b[32mcdo    fldmean: \u001b[0mProcessed 55296000 values from 1 variable over 3000 timesteps [1.16s 95MB].\n",
      "r95i1p1\n",
      "cdo    fldmean:                        1 1 1 1 1 1 1 1 1 1 2 2 2 2 2 2 2 2 2 2 3 3 3 3 3 3 3 3 3 3 4 4 4 4 4 4 4 4 4 4 5 5 5 5 5 5 5 5 5 5 6 6 6 6 6 6 6 6 6 6 7 7 7 7 7 7 7 7 7 7 8 8 8 8 8 8 8 8 8 8 9 9 9 9 9 9 9 9 9 910\u001b[32mcdo    fldmean: \u001b[0mProcessed 55296000 values from 1 variable over 3000 timesteps [1.18s 95MB].\n",
      "r96i1p1\n",
      "cdo    fldmean:                        1 1 1 1 1 1 1 1 1 1 2 2 2 2 2 2 2 2 2 2 3 3 3 3 3 3 3 3 3 3 4 4 4 4 4 4 4 4 4 4 5 5 5 5 5 5 5 5 5 5 6 6 6 6 6 6 6 6 6 6 7 7 7 7 7 7 7 7 7 7 8 8 8 8 8 8 8 8 8 8 9 9 9 9 9 9 9 9 9 910\u001b[32mcdo    fldmean: \u001b[0mProcessed 55296000 values from 1 variable over 3000 timesteps [1.18s 95MB].\n",
      "r97i1p1\n",
      "cdo    fldmean:                        1 1 1 1 1 1 1 1 1 1 2 2 2 2 2 2 2 2 2 2 3 3 3 3 3 3 3 3 3 3 4 4 4 4 4 4 4 4 4 4 5 5 5 5 5 5 5 5 5 5 6 6 6 6 6 6 6 6 6 6 7 7 7 7 7 7 7 7 7 7 8 8 8 8 8 8 8 8 8 8 9 9 9 9 9 9 9 9 9 910\u001b[32mcdo    fldmean: \u001b[0mProcessed 55296000 values from 1 variable over 3000 timesteps [1.15s 95MB].\n",
      "r98i1p1\n",
      "cdo    fldmean:                        1 1 1 1 1 1 1 1 1 1 2 2 2 2 2 2 2 2 2 2 3 3 3 3 3 3 3 3 3 3 4 4 4 4 4 4 4 4 4 4 5 5 5 5 5 5 5 5 5 5 6 6 6 6 6 6 6 6 6 6 7 7 7 7 7 7 7 7 7 7 8 8 8 8 8 8 8 8 8 8 9 9 9 9 9 9 9 9 9 910\u001b[32mcdo    fldmean: \u001b[0mProcessed 55296000 values from 1 variable over 3000 timesteps [1.18s 95MB].\n",
      "r99i1p1\n",
      "cdo    fldmean:                        1 1 1 1 1 1 1 1 1 1 2 2 2 2 2 2 2 2 2 2 3 3 3 3 3 3 3 3 3 3 4 4 4 4 4 4 4 4 4 4 5 5 5 5 5 5 5 5 5 5 6 6 6 6 6 6 6 6 6 6 7 7 7 7 7 7 7 7 7 7 8 8 8 8 8 8 8 8 8 8 9 9 9 9 9 9 9 9 9 910\u001b[32mcdo    fldmean: \u001b[0mProcessed 55296000 values from 1 variable over 3000 timesteps [1.16s 95MB].\n",
      "r100i1p1\n",
      "cdo    fldmean:                        1 1 1 1 1 1 1 1 1 1 2 2 2 2 2 2 2 2 2 2 3 3 3 3 3 3 3 3 3 3 4 4 4 4 4 4 4 4 4 4 5 5 5 5 5 5 5 5 5 5 6 6 6 6 6 6 6 6 6 6 7 7 7 7 7 7 7 7 7 7 8 8 8 8 8 8 8 8 8 8 9 9 9 9 9 9 9 9 9 910\u001b[32mcdo    fldmean: \u001b[0mProcessed 55296000 values from 1 variable over 3000 timesteps [1.27s 95MB].\n"
     ]
    }
   ],
   "source": [
    "run_0=1\n",
    "run_n=100\n",
    "model=mpi-ge\n",
    "varstring=tas\n",
    "suffix=i1p1\n",
    "outdir=${basedir_out}/MPI-GE/global_mean\n",
    "mkdir -p $outdir\n",
    "\n",
    "for rrr in $(seq $run_0 $run_n); do\n",
    "\n",
    "    expid=r$(printf \"%01d\" $rrr)${suffix}\n",
    "    echo ${expid}\n",
    "    datdir=${idir}\n",
    "    ifiles=${datdir}/${varstring}*${expid}*.nc\n",
    "    ofile=${outdir}/${varstring}_${model}_${expid}_globalmean.nc\n",
    "    cdo fldmean ${ifiles} ${ofile}\n",
    "done"
   ]
  },
  {
   "cell_type": "markdown",
   "id": "b1c34682-c285-4296-9a29-da67af939f9a",
   "metadata": {},
   "source": [
    "## CESM-LENS"
   ]
  },
  {
   "cell_type": "code",
   "execution_count": 3,
   "id": "d51f1af7-53ea-43a0-8474-069bfb392ce1",
   "metadata": {},
   "outputs": [],
   "source": [
    "idir=$basedir_MMLEA/cesm_lens/Amon/tas/"
   ]
  },
  {
   "cell_type": "code",
   "execution_count": 4,
   "id": "da4dd581-387d-40c0-a2b2-1a38567647ed",
   "metadata": {
    "collapsed": true,
    "jupyter": {
     "outputs_hidden": true
    },
    "tags": []
   },
   "outputs": [
    {
     "name": "stdout",
     "output_type": "stream",
     "text": [
      "tas_Amon_CESM1-CAM5_historical_rcp85_r10i1p1_192001-210012.nc\n",
      "tas_Amon_CESM1-CAM5_historical_rcp85_r11i1p1_192001-210012.nc\n",
      "tas_Amon_CESM1-CAM5_historical_rcp85_r12i1p1_192001-210012.nc\n",
      "tas_Amon_CESM1-CAM5_historical_rcp85_r13i1p1_192001-210012.nc\n",
      "tas_Amon_CESM1-CAM5_historical_rcp85_r14i1p1_192001-210012.nc\n",
      "tas_Amon_CESM1-CAM5_historical_rcp85_r15i1p1_192001-210012.nc\n",
      "tas_Amon_CESM1-CAM5_historical_rcp85_r16i1p1_192001-210012.nc\n",
      "tas_Amon_CESM1-CAM5_historical_rcp85_r17i1p1_192001-210012.nc\n",
      "tas_Amon_CESM1-CAM5_historical_rcp85_r18i1p1_192001-210012.nc\n",
      "tas_Amon_CESM1-CAM5_historical_rcp85_r19i1p1_192001-210012.nc\n",
      "tas_Amon_CESM1-CAM5_historical_rcp85_r20i1p1_192001-210012.nc\n",
      "tas_Amon_CESM1-CAM5_historical_rcp85_r21i1p1_192001-210012.nc\n",
      "tas_Amon_CESM1-CAM5_historical_rcp85_r22i1p1_192001-210012.nc\n",
      "tas_Amon_CESM1-CAM5_historical_rcp85_r23i1p1_192001-210012.nc\n",
      "tas_Amon_CESM1-CAM5_historical_rcp85_r24i1p1_192001-210012.nc\n",
      "tas_Amon_CESM1-CAM5_historical_rcp85_r25i1p1_192001-210012.nc\n",
      "tas_Amon_CESM1-CAM5_historical_rcp85_r26i1p1_192001-210012.nc\n",
      "tas_Amon_CESM1-CAM5_historical_rcp85_r27i1p1_192001-210012.nc\n",
      "tas_Amon_CESM1-CAM5_historical_rcp85_r28i1p1_192001-210012.nc\n",
      "tas_Amon_CESM1-CAM5_historical_rcp85_r29i1p1_192001-210012.nc\n",
      "tas_Amon_CESM1-CAM5_historical_rcp85_r2i1p1_192001-210012.nc\n",
      "tas_Amon_CESM1-CAM5_historical_rcp85_r30i1p1_192001-210012.nc\n",
      "tas_Amon_CESM1-CAM5_historical_rcp85_r31i1p1_192001-210012.nc\n",
      "tas_Amon_CESM1-CAM5_historical_rcp85_r32i1p1_192001-210012.nc\n",
      "tas_Amon_CESM1-CAM5_historical_rcp85_r33i1p1_192001-210012.nc\n",
      "tas_Amon_CESM1-CAM5_historical_rcp85_r34i1p1_192001-210012.nc\n",
      "tas_Amon_CESM1-CAM5_historical_rcp85_r35i1p1_192001-210012.nc\n",
      "tas_Amon_CESM1-CAM5_historical_rcp85_r36i1p1_192001-210012.nc\n",
      "tas_Amon_CESM1-CAM5_historical_rcp85_r37i1p1_192001-210012.nc\n",
      "tas_Amon_CESM1-CAM5_historical_rcp85_r38i1p1_192001-210012.nc\n",
      "tas_Amon_CESM1-CAM5_historical_rcp85_r39i1p1_192001-210012.nc\n",
      "tas_Amon_CESM1-CAM5_historical_rcp85_r3i1p1_192001-210012.nc\n",
      "tas_Amon_CESM1-CAM5_historical_rcp85_r40i1p1_192001-210012.nc\n",
      "tas_Amon_CESM1-CAM5_historical_rcp85_r4i1p1_192001-210012.nc\n",
      "tas_Amon_CESM1-CAM5_historical_rcp85_r5i1p1_192001-210012.nc\n",
      "tas_Amon_CESM1-CAM5_historical_rcp85_r6i1p1_192001-210012.nc\n",
      "tas_Amon_CESM1-CAM5_historical_rcp85_r7i1p1_192001-210012.nc\n",
      "tas_Amon_CESM1-CAM5_historical_rcp85_r8i1p1_192001-210012.nc\n",
      "tas_Amon_CESM1-CAM5_historical_rcp85_r9i1p1_192001-210012.nc\n"
     ]
    }
   ],
   "source": [
    "cd $idir\n",
    "ls *192001-210012*\n"
   ]
  },
  {
   "cell_type": "markdown",
   "id": "99241ff0-e39e-4d27-b483-8643d8eef165",
   "metadata": {},
   "source": [
    "## process 1850 members"
   ]
  },
  {
   "cell_type": "code",
   "execution_count": null,
   "id": "ba62b866-871f-4620-8a7d-50c537947d7f",
   "metadata": {},
   "outputs": [],
   "source": [
    "model=cesm-lens\n",
    "varstring=tas\n",
    "outdir=${basedir_out}/CESM-LENS/global_mean\n",
    "mkdir -p $outdir\n",
    "ifile=${idir}/tas_Amon_CESM1-CAM5_historical_rcp85_r1i1p1_185001-210012.nc\n",
    "ofile=${outdir}/${varstring}_${model}_historical_rcp85_r1i1p1_1850-2100_globalmean.nc\n",
    "cdo fldmean ${ifile} ${ofile}"
   ]
  },
  {
   "cell_type": "markdown",
   "id": "3457374a-a7bb-4045-b57c-cec5691991fa",
   "metadata": {},
   "source": [
    "## process 1920 members"
   ]
  },
  {
   "cell_type": "code",
   "execution_count": 47,
   "id": "ae8b4b0a-65bb-4e83-b580-9943cf0cb250",
   "metadata": {},
   "outputs": [
    {
     "name": "stdout",
     "output_type": "stream",
     "text": [
      "/glade/collections/cdg/data/CLIVAR_LE/cesm_lens/Amon/tas//tas_Amon_CESM1-CAM5_historical_rcp45_r3i1p1_192001-208012.nc /glade/collections/cdg/data/CLIVAR_LE/cesm_lens/Amon/tas//tas_Amon_CESM1-CAM5_historical_rcp85_r3i1p1_192001-210012.nc\n"
     ]
    }
   ],
   "source": [
    "echo $ifiles"
   ]
  },
  {
   "cell_type": "code",
   "execution_count": 48,
   "id": "0d6bde98-2596-410c-9f70-1148bbef8041",
   "metadata": {},
   "outputs": [
    {
     "name": "stdout",
     "output_type": "stream",
     "text": [
      "r2i1p1\n",
      "cdo    fldmean:                        1 1 1 1 1 1 1 1 1 1 2 2 2 2 2 2 2 2 2 2 3 3 3 3 3 3 3 3 3 3 4 4 4 4 4 4 4 4 4 4 5 5 5 5 5 5 5 5 5 5 6 6 6 6 6 6 6 6 6 6 7 7 7 7 7 7 7 7 7 7 8 8 8 8 8 8 8 8 8 8 9 9 9 9 9 9 9 9 9 910\n"
     ]
    }
   ],
   "source": [
    "run_0=2\n",
    "run_n=40\n",
    "model=cesm-lens\n",
    "experiment=historical_rcp85\n",
    "varstring=tas\n",
    "suffix=i1p1\n",
    "outdir=${basedir_out}/CESM-LENS/global_mean\n",
    "mkdir -p $outdir\n",
    "\n",
    "for rrr in $(seq $run_0 $run_n); do\n",
    "\n",
    "    expid=r$(printf \"%01d\" $rrr)${suffix}\n",
    "    echo ${expid}\n",
    "    datdir=${idir}\n",
    "    ifiles=${datdir}/${varstring}*${experiment}*${expid}*.nc\n",
    "    ofile=${outdir}/${varstring}_${model}_${expid}_1920-2100_globalmean.nc\n",
    "    cdo fldmean ${ifiles} ${ofile}\n",
    "done"
   ]
  },
  {
   "cell_type": "code",
   "execution_count": null,
   "id": "e0214853-ae18-44ac-82a5-6a85a6cf4ea4",
   "metadata": {},
   "outputs": [],
   "source": []
  }
 ],
 "metadata": {
  "kernelspec": {
   "display_name": "Bash",
   "language": "bash",
   "name": "bash"
  },
  "language_info": {
   "codemirror_mode": "shell",
   "file_extension": ".sh",
   "mimetype": "text/x-sh",
   "name": "bash"
  }
 },
 "nbformat": 4,
 "nbformat_minor": 5
}
