{
 "cells": [
  {
   "cell_type": "markdown",
   "id": "46fd3d0a-e97e-4eb4-ba96-3ced7e09142f",
   "metadata": {},
   "source": [
    "# Example script: load LE data and plot GSAT\n",
    "\n",
    "This is a basic script that loads output from a large ensemble, does some simple processing, and plots the result.\n",
    "\n",
    "Load variable 'tas', compute global and annual mean, and plot for:\n",
    "- CESM-LENS\n",
    "\n",
    "**Please use the *Pangeo (2019.09.12 - py3.7)* environment.** The standard Python 3 environment does not provide all necessary packages. Of course you can also use your own custom environment."
   ]
  },
  {
   "cell_type": "markdown",
   "id": "380c611a-0d5d-48d1-8b17-f50251375634",
   "metadata": {},
   "source": [
    "## Setup\n",
    "### load required packages"
   ]
  },
  {
   "cell_type": "code",
   "execution_count": 2,
   "id": "1be7d45b-3c90-4b44-9ebc-a02e56749fe5",
   "metadata": {},
   "outputs": [],
   "source": [
    "import matplotlib.pyplot as plt\n",
    "import matplotlib as mpl\n",
    "mpl.rcParams['figure.dpi'] = 300\n",
    "import numpy as np\n",
    "# from scipy.io import netcdf\n",
    "# import scipy.stats as stats\n",
    "import pandas as pd\n",
    "\n",
    "import xarray as xr\n",
    "# import random\n",
    "import os\n",
    "from pprint import pprint\n",
    "from tqdm import tqdm\n",
    "\n",
    "# # Import Cdo-py\n",
    "# import cdo\n",
    "# cdo = cdo.Cdo() #\n",
    "\n",
    "\n",
    "    \n"
   ]
  },
  {
   "cell_type": "markdown",
   "id": "c72a086b-741c-4adf-87b5-b599b616508b",
   "metadata": {},
   "source": [
    "## set paths"
   ]
  },
  {
   "cell_type": "code",
   "execution_count": 3,
   "id": "6af9f19e-a150-4a55-841a-8fe968f5d3a0",
   "metadata": {},
   "outputs": [],
   "source": [
    "# directories with SMILE output\n",
    "basedir_MMLEA = '/glade/collections/cdg/data/CLIVAR_LE/'\n",
    "basedir_cmip6_ensembles = '/glade/scratch/rwills/cmip6_ensembles/'\n",
    "\n",
    "# directory for saving plots\n",
    "plotdir = './plots/test/'\n",
    "if not os.path.exists(plotdir):\n",
    "    os.makedirs(plotdir)\n",
    "    \n",
    "\n"
   ]
  },
  {
   "cell_type": "markdown",
   "id": "d8211c84-1672-4d4f-a078-4539f789fd2d",
   "metadata": {},
   "source": [
    "## List available data"
   ]
  },
  {
   "cell_type": "code",
   "execution_count": 4,
   "id": "d01fe0ea-f6ea-4e86-8fd4-f76740081ef7",
   "metadata": {},
   "outputs": [
    {
     "data": {
      "text/plain": [
       "['csiro_mk36_lens',\n",
       " 'olens_mckinnon',\n",
       " 'cesm_lens',\n",
       " 'CVDP-LE',\n",
       " 'gfdl_cm3_lens',\n",
       " 'ec_earth_lens',\n",
       " 'canesm2_lens',\n",
       " 'gfdl_esm2m_lens',\n",
       " 'mpi_lens',\n",
       " 'olens_mckinnon_update_08142019']"
      ]
     },
     "execution_count": 4,
     "metadata": {},
     "output_type": "execute_result"
    }
   ],
   "source": [
    "# list contents of MMLEA archive\n",
    "os.listdir(basedir_MMLEA)"
   ]
  },
  {
   "cell_type": "code",
   "execution_count": 5,
   "id": "e2e9463e-eab2-4911-a5df-48e253812210",
   "metadata": {},
   "outputs": [
    {
     "data": {
      "text/plain": [
       "['ec-earth3_lens',\n",
       " 'ukesm1_lens',\n",
       " 'giss_e21h_lens',\n",
       " 'cnrm_cm6_lens',\n",
       " 'miroc6_lens',\n",
       " 'norcpm1_lens',\n",
       " 'cesm2_lens',\n",
       " 'canesm5_lens',\n",
       " 'access_lens',\n",
       " 'giss_e21g_lens',\n",
       " 'miroc_esm2l_lens',\n",
       " 'ipsl_cm6a_lens']"
      ]
     },
     "execution_count": 5,
     "metadata": {},
     "output_type": "execute_result"
    }
   ],
   "source": [
    "# list available CMIP SMILEs\n",
    "\n",
    "# ignores hidden files and folder with temporary data\n",
    "[f for f in os.listdir(basedir_cmip6_ensembles) if not f.startswith(('.','model_variants','native_grid','unsorted'))]\n"
   ]
  },
  {
   "cell_type": "code",
   "execution_count": 6,
   "id": "83d5be0f-f27c-4873-9b29-7c282def80d9",
   "metadata": {},
   "outputs": [
    {
     "name": "stdout",
     "output_type": "stream",
     "text": [
      "['tas_Amon_CESM1-CAM5_historical_rcp45_r10i1p1_192001-208012.nc',\n",
      " 'tas_Amon_CESM1-CAM5_historical_rcp45_r11i1p1_192001-208012.nc',\n",
      " 'tas_Amon_CESM1-CAM5_historical_rcp45_r12i1p1_192001-208012.nc',\n",
      " 'tas_Amon_CESM1-CAM5_historical_rcp45_r13i1p1_192001-208012.nc',\n",
      " 'tas_Amon_CESM1-CAM5_historical_rcp45_r14i1p1_192001-208012.nc',\n",
      " 'tas_Amon_CESM1-CAM5_historical_rcp45_r15i1p1_192001-208012.nc',\n",
      " 'tas_Amon_CESM1-CAM5_historical_rcp45_r1i1p1_185001-208012.nc',\n",
      " 'tas_Amon_CESM1-CAM5_historical_rcp45_r1i1p1_192001-208012.nc',\n",
      " 'tas_Amon_CESM1-CAM5_historical_rcp45_r2i1p1_192001-208012.nc',\n",
      " 'tas_Amon_CESM1-CAM5_historical_rcp45_r3i1p1_192001-208012.nc',\n",
      " 'tas_Amon_CESM1-CAM5_historical_rcp45_r4i1p1_192001-208012.nc',\n",
      " 'tas_Amon_CESM1-CAM5_historical_rcp45_r5i1p1_192001-208012.nc',\n",
      " 'tas_Amon_CESM1-CAM5_historical_rcp45_r6i1p1_192001-208012.nc',\n",
      " 'tas_Amon_CESM1-CAM5_historical_rcp45_r7i1p1_192001-208012.nc',\n",
      " 'tas_Amon_CESM1-CAM5_historical_rcp45_r8i1p1_192001-208012.nc',\n",
      " 'tas_Amon_CESM1-CAM5_historical_rcp45_r9i1p1_192001-208012.nc',\n",
      " 'tas_Amon_CESM1-CAM5_historical_rcp85_r10i1p1_192001-210012.nc',\n",
      " 'tas_Amon_CESM1-CAM5_historical_rcp85_r11i1p1_192001-210012.nc',\n",
      " 'tas_Amon_CESM1-CAM5_historical_rcp85_r12i1p1_192001-210012.nc',\n",
      " 'tas_Amon_CESM1-CAM5_historical_rcp85_r13i1p1_192001-210012.nc',\n",
      " 'tas_Amon_CESM1-CAM5_historical_rcp85_r14i1p1_192001-210012.nc',\n",
      " 'tas_Amon_CESM1-CAM5_historical_rcp85_r15i1p1_192001-210012.nc',\n",
      " 'tas_Amon_CESM1-CAM5_historical_rcp85_r16i1p1_192001-210012.nc',\n",
      " 'tas_Amon_CESM1-CAM5_historical_rcp85_r17i1p1_192001-210012.nc',\n",
      " 'tas_Amon_CESM1-CAM5_historical_rcp85_r18i1p1_192001-210012.nc',\n",
      " 'tas_Amon_CESM1-CAM5_historical_rcp85_r19i1p1_192001-210012.nc',\n",
      " 'tas_Amon_CESM1-CAM5_historical_rcp85_r1i1p1_185001-210012.nc',\n",
      " 'tas_Amon_CESM1-CAM5_historical_rcp85_r20i1p1_192001-210012.nc',\n",
      " 'tas_Amon_CESM1-CAM5_historical_rcp85_r21i1p1_192001-210012.nc',\n",
      " 'tas_Amon_CESM1-CAM5_historical_rcp85_r22i1p1_192001-210012.nc',\n",
      " 'tas_Amon_CESM1-CAM5_historical_rcp85_r23i1p1_192001-210012.nc',\n",
      " 'tas_Amon_CESM1-CAM5_historical_rcp85_r24i1p1_192001-210012.nc',\n",
      " 'tas_Amon_CESM1-CAM5_historical_rcp85_r25i1p1_192001-210012.nc',\n",
      " 'tas_Amon_CESM1-CAM5_historical_rcp85_r26i1p1_192001-210012.nc',\n",
      " 'tas_Amon_CESM1-CAM5_historical_rcp85_r27i1p1_192001-210012.nc',\n",
      " 'tas_Amon_CESM1-CAM5_historical_rcp85_r28i1p1_192001-210012.nc',\n",
      " 'tas_Amon_CESM1-CAM5_historical_rcp85_r29i1p1_192001-210012.nc',\n",
      " 'tas_Amon_CESM1-CAM5_historical_rcp85_r2i1p1_192001-210012.nc',\n",
      " 'tas_Amon_CESM1-CAM5_historical_rcp85_r30i1p1_192001-210012.nc',\n",
      " 'tas_Amon_CESM1-CAM5_historical_rcp85_r31i1p1_192001-210012.nc',\n",
      " 'tas_Amon_CESM1-CAM5_historical_rcp85_r32i1p1_192001-210012.nc',\n",
      " 'tas_Amon_CESM1-CAM5_historical_rcp85_r33i1p1_192001-210012.nc',\n",
      " 'tas_Amon_CESM1-CAM5_historical_rcp85_r34i1p1_192001-210012.nc',\n",
      " 'tas_Amon_CESM1-CAM5_historical_rcp85_r35i1p1_192001-210012.nc',\n",
      " 'tas_Amon_CESM1-CAM5_historical_rcp85_r36i1p1_192001-210012.nc',\n",
      " 'tas_Amon_CESM1-CAM5_historical_rcp85_r37i1p1_192001-210012.nc',\n",
      " 'tas_Amon_CESM1-CAM5_historical_rcp85_r38i1p1_192001-210012.nc',\n",
      " 'tas_Amon_CESM1-CAM5_historical_rcp85_r39i1p1_192001-210012.nc',\n",
      " 'tas_Amon_CESM1-CAM5_historical_rcp85_r3i1p1_192001-210012.nc',\n",
      " 'tas_Amon_CESM1-CAM5_historical_rcp85_r40i1p1_192001-210012.nc',\n",
      " 'tas_Amon_CESM1-CAM5_historical_rcp85_r4i1p1_192001-210012.nc',\n",
      " 'tas_Amon_CESM1-CAM5_historical_rcp85_r5i1p1_192001-210012.nc',\n",
      " 'tas_Amon_CESM1-CAM5_historical_rcp85_r6i1p1_192001-210012.nc',\n",
      " 'tas_Amon_CESM1-CAM5_historical_rcp85_r7i1p1_192001-210012.nc',\n",
      " 'tas_Amon_CESM1-CAM5_historical_rcp85_r8i1p1_192001-210012.nc',\n",
      " 'tas_Amon_CESM1-CAM5_historical_rcp85_r9i1p1_192001-210012.nc']\n"
     ]
    }
   ],
   "source": [
    "# explore cesm_lens data in more detail\n",
    "filelist = os.listdir(basedir_MMLEA+'cesm_lens/Amon/tas/')\n",
    "filelist.sort()\n",
    "pprint(filelist)"
   ]
  },
  {
   "cell_type": "markdown",
   "id": "f403bc1c-f7a4-475f-85f2-f04cca9965e7",
   "metadata": {},
   "source": [
    "**Note:**\n",
    "CESM has 5 members starting in 1850 and 40 starting in 1920. The members starting in 1850 appear twice in the list of files. Be careful not to load all files in the directory!\n"
   ]
  },
  {
   "cell_type": "markdown",
   "id": "6ec82b3c-8d4a-4b12-97dd-e878b1a85dae",
   "metadata": {},
   "source": [
    "## load CESM-LENS tas"
   ]
  },
  {
   "cell_type": "markdown",
   "id": "dda1de24-e581-42f0-801f-f16d74b293d6",
   "metadata": {},
   "source": [
    "### single member"
   ]
  },
  {
   "cell_type": "code",
   "execution_count": 6,
   "id": "99029199-d207-45ff-ab1d-435562ea5574",
   "metadata": {},
   "outputs": [],
   "source": [
    "filepath = basedir_MMLEA + 'cesm_lens/Amon/tas/'"
   ]
  },
  {
   "cell_type": "markdown",
   "id": "abb136a9-9b11-43e5-a2bf-e0a81bd830c3",
   "metadata": {},
   "source": [
    "Use XArray to load a single member. *['tas']* in the end selects the data variable *tas*."
   ]
  },
  {
   "cell_type": "code",
   "execution_count": 7,
   "id": "1a0e9aaa-2756-4515-bc06-f4d8935ffdbe",
   "metadata": {},
   "outputs": [
    {
     "name": "stderr",
     "output_type": "stream",
     "text": [
      "/ncar/usr/jupyterhub/envs/pangeo-2019.09.12/lib/python3.7/site-packages/ipykernel_launcher.py:3: RuntimeWarning: Converting a CFTimeIndex with dates from a non-standard calendar, 'noleap', to a pandas.DatetimeIndex, which uses dates from the standard calendar.  This may lead to subtle errors in operations that depend on the length of time between dates.\n",
      "  This is separate from the ipykernel package so we can avoid doing imports until\n"
     ]
    }
   ],
   "source": [
    "r1_test = xr.open_dataset(filepath + 'tas_Amon_CESM1-CAM5_historical_rcp45_r1i1p1_185001-208012.nc')['tas']\n",
    "# change time axis to standard datetime format that works better with XArray\n",
    "r1_test['time'] = r1_test.indexes['time'].to_datetimeindex()"
   ]
  },
  {
   "cell_type": "code",
   "execution_count": 8,
   "id": "ec6eeb7f-e940-47df-88a6-6f54773bbb8d",
   "metadata": {},
   "outputs": [
    {
     "data": {
      "image/png": "[encoded data removed]",
      "text/plain": [
       "<Figure size 432x288 with 1 Axes>"
      ]
     },
     "metadata": {
      "needs_background": "light"
     },
     "output_type": "display_data"
    }
   ],
   "source": [
    "# compute global mean, annual mean and plot\n",
    "r1_test.mean(dim='lat').mean(dim='lon').groupby('time.year').mean('time').plot()\n",
    "plt.title('annual mean GSAT CESM-LENS member 1');"
   ]
  },
  {
   "cell_type": "markdown",
   "id": "8d8459e3-23ec-43ad-9281-fcb78e964203",
   "metadata": {},
   "source": [
    "### all members\n",
    "Load all 40 members and merge into an array with an ensemble dimension"
   ]
  },
  {
   "cell_type": "code",
   "execution_count": 9,
   "id": "dde15f0c-2320-4916-82ae-3b4d56e6afb5",
   "metadata": {},
   "outputs": [
    {
     "name": "stderr",
     "output_type": "stream",
     "text": [
      "/ncar/usr/jupyterhub/envs/pangeo-2019.09.12/lib/python3.7/site-packages/ipykernel_launcher.py:7: RuntimeWarning: Converting a CFTimeIndex with dates from a non-standard calendar, 'noleap', to a pandas.DatetimeIndex, which uses dates from the standard calendar.  This may lead to subtle errors in operations that depend on the length of time between dates.\n",
      "  import sys\n"
     ]
    }
   ],
   "source": [
    "var = 'tas'\n",
    "filepath = basedir_MMLEA + 'cesm_lens/Amon/'+var+'/'\n",
    "\n",
    "cesm_lens_tas = xr.open_mfdataset(filepath + '*192001-210012.nc',combine='nested',concat_dim='ensemble')[var]\n",
    "\n",
    "# change time axis to standard datetime format that works better with XArray\n",
    "cesm_lens_tas['time'] = cesm_lens_tas.indexes['time'].to_datetimeindex()"
   ]
  },
  {
   "cell_type": "code",
   "execution_count": 10,
   "id": "5fd6c66b-ba7e-4ee0-a169-582c8a1a07dd",
   "metadata": {},
   "outputs": [
    {
     "data": {
      "text/plain": [
       "<xarray.DataArray 'tas' (ensemble: 39, time: 2172, lat: 289, lon: 288)>\n",
       "dask.array<shape=(39, 2172, 289, 288), dtype=float32, chunksize=(1, 2172, 289, 288)>\n",
       "Coordinates:\n",
       "  * lat      (lat) float64 -90.0 -89.06 -88.12 -87.17 ... 88.12 88.12 89.06 90.0\n",
       "    height   float64 2.0\n",
       "  * lon      (lon) float64 0.0 1.25 2.5 3.75 5.0 ... 355.0 356.2 357.5 358.8\n",
       "  * time     (time) datetime64[ns] 1920-01-16T12:00:00 ... 2100-12-16T12:00:00\n",
       "Dimensions without coordinates: ensemble\n",
       "Attributes:\n",
       "    standard_name:   air_temperature\n",
       "    long_name:       air_temperature\n",
       "    units:           K\n",
       "    comment:         Created using NCL code\n",
       "    history:         Added height coordinate\n",
       "    original_units:  K\n",
       "    original_name:   TREFHT\n",
       "    cell_methods:    time: mean (interval: 1 month)"
      ]
     },
     "execution_count": 10,
     "metadata": {},
     "output_type": "execute_result"
    }
   ],
   "source": [
    "cesm_lens_tas"
   ]
  },
  {
   "cell_type": "markdown",
   "id": "7178fa33-ac49-44d5-a6e9-9653e0a9051a",
   "metadata": {},
   "source": [
    "### compute & plot GSAT"
   ]
  },
  {
   "cell_type": "code",
   "execution_count": 17,
   "id": "298a0c70-e56f-4dfd-ae85-1a8a298724d4",
   "metadata": {},
   "outputs": [],
   "source": [
    "# compute global mean, annual mean and plot\n",
    "cesm_lens_tas_globalmean = cesm_lens_tas.mean(dim='lat').mean(dim='lon').groupby('time.year').mean('time')"
   ]
  },
  {
   "cell_type": "code",
   "execution_count": 13,
   "id": "dca6bad6-3dd3-4755-9c12-2cdd51fe710f",
   "metadata": {},
   "outputs": [
    {
     "data": {
      "text/plain": [
       "<xarray.DataArray 'tas' (ensemble: 39, year: 181)>\n",
       "dask.array<shape=(39, 181), dtype=float32, chunksize=(1, 1)>\n",
       "Coordinates:\n",
       "    height   float64 2.0\n",
       "  * year     (year) int64 1920 1921 1922 1923 1924 ... 2096 2097 2098 2099 2100\n",
       "Dimensions without coordinates: ensemble"
      ]
     },
     "execution_count": 13,
     "metadata": {},
     "output_type": "execute_result"
    }
   ],
   "source": [
    "cesm_lens_tas_globalmean"
   ]
  },
  {
   "cell_type": "code",
   "execution_count": 21,
   "id": "fa3bf5eb-c810-4b5f-bda1-811b772d120b",
   "metadata": {},
   "outputs": [
    {
     "data": {
      "text/plain": [
       "Text(0.5, 1.0, 'CESM-LENS GSAT (historical + RCP8.5)')"
      ]
     },
     "execution_count": 21,
     "metadata": {},
     "output_type": "execute_result"
    },
    {
     "data": {
      "image/png": "[encoded data removed]",
      "text/plain": [
       "<Figure size 432x288 with 1 Axes>"
      ]
     },
     "metadata": {
      "needs_background": "light"
     },
     "output_type": "display_data"
    }
   ],
   "source": [
    "plt.plot(cesm_lens_tas_globalmean['year'],cesm_lens_tas_globalmean.transpose(),color='lightblue',linewidth=0.5);\n",
    "plt.plot(cesm_lens_tas_globalmean['year'],cesm_lens_tas_globalmean.mean(dim='ensemble'),color='blue',linewidth=1);\n",
    "plt.title('CESM-LENS GSAT (historical + RCP8.5)')"
   ]
  },
  {
   "cell_type": "markdown",
   "id": "77b0888e-f9b0-4193-b978-628da8220e26",
   "metadata": {},
   "source": [
    "## load MPI-GE"
   ]
  },
  {
   "cell_type": "code",
   "execution_count": 7,
   "id": "40b5686c-d51e-4061-bc08-0f0a14dc0557",
   "metadata": {},
   "outputs": [
    {
     "name": "stdout",
     "output_type": "stream",
     "text": [
      "['tas_Amon_MPI-ESM_historical_rcp85_r100i1p1_185001-209912.nc',\n",
      " 'tas_Amon_MPI-ESM_historical_rcp85_r10i1p1_185001-209912.nc',\n",
      " 'tas_Amon_MPI-ESM_historical_rcp85_r11i1p1_185001-209912.nc',\n",
      " 'tas_Amon_MPI-ESM_historical_rcp85_r12i1p1_185001-209912.nc',\n",
      " 'tas_Amon_MPI-ESM_historical_rcp85_r13i1p1_185001-209912.nc',\n",
      " 'tas_Amon_MPI-ESM_historical_rcp85_r14i1p1_185001-209912.nc',\n",
      " 'tas_Amon_MPI-ESM_historical_rcp85_r15i1p1_185001-209912.nc',\n",
      " 'tas_Amon_MPI-ESM_historical_rcp85_r16i1p1_185001-209912.nc',\n",
      " 'tas_Amon_MPI-ESM_historical_rcp85_r17i1p1_185001-209912.nc',\n",
      " 'tas_Amon_MPI-ESM_historical_rcp85_r18i1p1_185001-209912.nc',\n",
      " 'tas_Amon_MPI-ESM_historical_rcp85_r19i1p1_185001-209912.nc',\n",
      " 'tas_Amon_MPI-ESM_historical_rcp85_r1i1p1_185001-209912.nc',\n",
      " 'tas_Amon_MPI-ESM_historical_rcp85_r20i1p1_185001-209912.nc',\n",
      " 'tas_Amon_MPI-ESM_historical_rcp85_r21i1p1_185001-209912.nc',\n",
      " 'tas_Amon_MPI-ESM_historical_rcp85_r22i1p1_185001-209912.nc',\n",
      " 'tas_Amon_MPI-ESM_historical_rcp85_r23i1p1_185001-209912.nc',\n",
      " 'tas_Amon_MPI-ESM_historical_rcp85_r24i1p1_185001-209912.nc',\n",
      " 'tas_Amon_MPI-ESM_historical_rcp85_r25i1p1_185001-209912.nc',\n",
      " 'tas_Amon_MPI-ESM_historical_rcp85_r26i1p1_185001-209912.nc',\n",
      " 'tas_Amon_MPI-ESM_historical_rcp85_r27i1p1_185001-209912.nc',\n",
      " 'tas_Amon_MPI-ESM_historical_rcp85_r28i1p1_185001-209912.nc',\n",
      " 'tas_Amon_MPI-ESM_historical_rcp85_r29i1p1_185001-209912.nc',\n",
      " 'tas_Amon_MPI-ESM_historical_rcp85_r2i1p1_185001-209912.nc',\n",
      " 'tas_Amon_MPI-ESM_historical_rcp85_r30i1p1_185001-209912.nc',\n",
      " 'tas_Amon_MPI-ESM_historical_rcp85_r31i1p1_185001-209912.nc',\n",
      " 'tas_Amon_MPI-ESM_historical_rcp85_r32i1p1_185001-209912.nc',\n",
      " 'tas_Amon_MPI-ESM_historical_rcp85_r33i1p1_185001-209912.nc',\n",
      " 'tas_Amon_MPI-ESM_historical_rcp85_r34i1p1_185001-209912.nc',\n",
      " 'tas_Amon_MPI-ESM_historical_rcp85_r35i1p1_185001-209912.nc',\n",
      " 'tas_Amon_MPI-ESM_historical_rcp85_r36i1p1_185001-209912.nc',\n",
      " 'tas_Amon_MPI-ESM_historical_rcp85_r37i1p1_185001-209912.nc',\n",
      " 'tas_Amon_MPI-ESM_historical_rcp85_r38i1p1_185001-209912.nc',\n",
      " 'tas_Amon_MPI-ESM_historical_rcp85_r39i1p1_185001-209912.nc',\n",
      " 'tas_Amon_MPI-ESM_historical_rcp85_r3i1p1_185001-209912.nc',\n",
      " 'tas_Amon_MPI-ESM_historical_rcp85_r40i1p1_185001-209912.nc',\n",
      " 'tas_Amon_MPI-ESM_historical_rcp85_r41i1p1_185001-209912.nc',\n",
      " 'tas_Amon_MPI-ESM_historical_rcp85_r42i1p1_185001-209912.nc',\n",
      " 'tas_Amon_MPI-ESM_historical_rcp85_r43i1p1_185001-209912.nc',\n",
      " 'tas_Amon_MPI-ESM_historical_rcp85_r44i1p1_185001-209912.nc',\n",
      " 'tas_Amon_MPI-ESM_historical_rcp85_r45i1p1_185001-209912.nc',\n",
      " 'tas_Amon_MPI-ESM_historical_rcp85_r46i1p1_185001-209912.nc',\n",
      " 'tas_Amon_MPI-ESM_historical_rcp85_r47i1p1_185001-209912.nc',\n",
      " 'tas_Amon_MPI-ESM_historical_rcp85_r48i1p1_185001-209912.nc',\n",
      " 'tas_Amon_MPI-ESM_historical_rcp85_r49i1p1_185001-209912.nc',\n",
      " 'tas_Amon_MPI-ESM_historical_rcp85_r4i1p1_185001-209912.nc',\n",
      " 'tas_Amon_MPI-ESM_historical_rcp85_r50i1p1_185001-209912.nc',\n",
      " 'tas_Amon_MPI-ESM_historical_rcp85_r51i1p1_185001-209912.nc',\n",
      " 'tas_Amon_MPI-ESM_historical_rcp85_r52i1p1_185001-209912.nc',\n",
      " 'tas_Amon_MPI-ESM_historical_rcp85_r53i1p1_185001-209912.nc',\n",
      " 'tas_Amon_MPI-ESM_historical_rcp85_r54i1p1_185001-209912.nc',\n",
      " 'tas_Amon_MPI-ESM_historical_rcp85_r55i1p1_185001-209912.nc',\n",
      " 'tas_Amon_MPI-ESM_historical_rcp85_r56i1p1_185001-209912.nc',\n",
      " 'tas_Amon_MPI-ESM_historical_rcp85_r57i1p1_185001-209912.nc',\n",
      " 'tas_Amon_MPI-ESM_historical_rcp85_r58i1p1_185001-209912.nc',\n",
      " 'tas_Amon_MPI-ESM_historical_rcp85_r59i1p1_185001-209912.nc',\n",
      " 'tas_Amon_MPI-ESM_historical_rcp85_r5i1p1_185001-209912.nc',\n",
      " 'tas_Amon_MPI-ESM_historical_rcp85_r60i1p1_185001-209912.nc',\n",
      " 'tas_Amon_MPI-ESM_historical_rcp85_r61i1p1_185001-209912.nc',\n",
      " 'tas_Amon_MPI-ESM_historical_rcp85_r62i1p1_185001-209912.nc',\n",
      " 'tas_Amon_MPI-ESM_historical_rcp85_r63i1p1_185001-209912.nc',\n",
      " 'tas_Amon_MPI-ESM_historical_rcp85_r64i1p1_185001-209912.nc',\n",
      " 'tas_Amon_MPI-ESM_historical_rcp85_r65i1p1_185001-209912.nc',\n",
      " 'tas_Amon_MPI-ESM_historical_rcp85_r66i1p1_185001-209912.nc',\n",
      " 'tas_Amon_MPI-ESM_historical_rcp85_r67i1p1_185001-209912.nc',\n",
      " 'tas_Amon_MPI-ESM_historical_rcp85_r68i1p1_185001-209912.nc',\n",
      " 'tas_Amon_MPI-ESM_historical_rcp85_r69i1p1_185001-209912.nc',\n",
      " 'tas_Amon_MPI-ESM_historical_rcp85_r6i1p1_185001-209912.nc',\n",
      " 'tas_Amon_MPI-ESM_historical_rcp85_r70i1p1_185001-209912.nc',\n",
      " 'tas_Amon_MPI-ESM_historical_rcp85_r71i1p1_185001-209912.nc',\n",
      " 'tas_Amon_MPI-ESM_historical_rcp85_r72i1p1_185001-209912.nc',\n",
      " 'tas_Amon_MPI-ESM_historical_rcp85_r73i1p1_185001-209912.nc',\n",
      " 'tas_Amon_MPI-ESM_historical_rcp85_r74i1p1_185001-209912.nc',\n",
      " 'tas_Amon_MPI-ESM_historical_rcp85_r75i1p1_185001-209912.nc',\n",
      " 'tas_Amon_MPI-ESM_historical_rcp85_r76i1p1_185001-209912.nc',\n",
      " 'tas_Amon_MPI-ESM_historical_rcp85_r77i1p1_185001-209912.nc',\n",
      " 'tas_Amon_MPI-ESM_historical_rcp85_r78i1p1_185001-209912.nc',\n",
      " 'tas_Amon_MPI-ESM_historical_rcp85_r79i1p1_185001-209912.nc',\n",
      " 'tas_Amon_MPI-ESM_historical_rcp85_r7i1p1_185001-209912.nc',\n",
      " 'tas_Amon_MPI-ESM_historical_rcp85_r80i1p1_185001-209912.nc',\n",
      " 'tas_Amon_MPI-ESM_historical_rcp85_r81i1p1_185001-209912.nc',\n",
      " 'tas_Amon_MPI-ESM_historical_rcp85_r82i1p1_185001-209912.nc',\n",
      " 'tas_Amon_MPI-ESM_historical_rcp85_r83i1p1_185001-209912.nc',\n",
      " 'tas_Amon_MPI-ESM_historical_rcp85_r84i1p1_185001-209912.nc',\n",
      " 'tas_Amon_MPI-ESM_historical_rcp85_r85i1p1_185001-209912.nc',\n",
      " 'tas_Amon_MPI-ESM_historical_rcp85_r86i1p1_185001-209912.nc',\n",
      " 'tas_Amon_MPI-ESM_historical_rcp85_r87i1p1_185001-209912.nc',\n",
      " 'tas_Amon_MPI-ESM_historical_rcp85_r88i1p1_185001-209912.nc',\n",
      " 'tas_Amon_MPI-ESM_historical_rcp85_r89i1p1_185001-209912.nc',\n",
      " 'tas_Amon_MPI-ESM_historical_rcp85_r8i1p1_185001-209912.nc',\n",
      " 'tas_Amon_MPI-ESM_historical_rcp85_r90i1p1_185001-209912.nc',\n",
      " 'tas_Amon_MPI-ESM_historical_rcp85_r91i1p1_185001-209912.nc',\n",
      " 'tas_Amon_MPI-ESM_historical_rcp85_r92i1p1_185001-209912.nc',\n",
      " 'tas_Amon_MPI-ESM_historical_rcp85_r93i1p1_185001-209912.nc',\n",
      " 'tas_Amon_MPI-ESM_historical_rcp85_r94i1p1_185001-209912.nc',\n",
      " 'tas_Amon_MPI-ESM_historical_rcp85_r95i1p1_185001-209912.nc',\n",
      " 'tas_Amon_MPI-ESM_historical_rcp85_r96i1p1_185001-209912.nc',\n",
      " 'tas_Amon_MPI-ESM_historical_rcp85_r97i1p1_185001-209912.nc',\n",
      " 'tas_Amon_MPI-ESM_historical_rcp85_r98i1p1_185001-209912.nc',\n",
      " 'tas_Amon_MPI-ESM_historical_rcp85_r99i1p1_185001-209912.nc',\n",
      " 'tas_Amon_MPI-ESM_historical_rcp85_r9i1p1_185001-209912.nc']\n"
     ]
    }
   ],
   "source": [
    "# explore cesm_lens data in more detail\n",
    "filelist = os.listdir(basedir_MMLEA+'mpi_lens/Amon/tas/')\n",
    "filelist.sort()\n",
    "pprint(filelist)"
   ]
  },
  {
   "cell_type": "markdown",
   "id": "55101387-492a-4ffa-bc1c-bd9c433018be",
   "metadata": {},
   "source": [
    "Load all members and merge into an array with an ensemble dimension"
   ]
  },
  {
   "cell_type": "code",
   "execution_count": 8,
   "id": "90b9a8ad-15f1-4a75-806e-b29eba0ca9a8",
   "metadata": {},
   "outputs": [],
   "source": [
    "var = 'tas'\n",
    "filepath = basedir_MMLEA + 'mpi_lens/Amon/'+var+'/'\n",
    "\n",
    "mpi_ge_tas = xr.open_mfdataset(filepath + '*.nc',combine='nested',concat_dim='ensemble')[var]"
   ]
  },
  {
   "cell_type": "code",
   "execution_count": 9,
   "id": "8f2a5c10-d1ba-4314-a751-65de500aa805",
   "metadata": {},
   "outputs": [
    {
     "data": {
      "text/plain": [
       "<xarray.DataArray 'tas' (ensemble: 100, time: 3000, lat: 96, lon: 192)>\n",
       "dask.array<shape=(100, 3000, 96, 192), dtype=float32, chunksize=(1, 3000, 96, 192)>\n",
       "Coordinates:\n",
       "  * time     (time) datetime64[ns] 1850-01-16T12:00:00 ... 2099-12-16T12:00:00\n",
       "  * lon      (lon) float64 0.0 1.875 3.75 5.625 7.5 ... 352.5 354.4 356.2 358.1\n",
       "  * lat      (lat) float64 -88.57 -86.72 -84.86 -83.0 ... 83.0 84.86 86.72 88.57\n",
       "    height   float64 2.0\n",
       "Dimensions without coordinates: ensemble\n",
       "Attributes:\n",
       "    standard_name:     air_temperature\n",
       "    long_name:         Near-Surface Air Temperature\n",
       "    units:             K\n",
       "    cell_methods:      time: mean\n",
       "    cell_measures:     area: areacella\n",
       "    associated_files:  baseURL: http://cmip-pcmdi.llnl.gov/CMIP5/dataLocation..."
      ]
     },
     "execution_count": 9,
     "metadata": {},
     "output_type": "execute_result"
    }
   ],
   "source": [
    "mpi_ge_tas"
   ]
  },
  {
   "cell_type": "markdown",
   "id": "e41516ab-d3b4-4d4f-856e-6de76bd9c4f9",
   "metadata": {},
   "source": [
    "### compute & plot GSAT"
   ]
  },
  {
   "cell_type": "code",
   "execution_count": 10,
   "id": "a77a7121-1b99-4690-be9c-c446b5216768",
   "metadata": {},
   "outputs": [],
   "source": [
    "# compute global mean, annual mean and plot\n",
    "mpi_ge_tas_globalmean = mpi_ge_tas.mean(dim='lat').mean(dim='lon').groupby('time.year').mean('time')"
   ]
  },
  {
   "cell_type": "code",
   "execution_count": 11,
   "id": "22705781-6aa9-4e08-b97e-5ee1dc9c3ade",
   "metadata": {},
   "outputs": [
    {
     "data": {
      "text/plain": [
       "<xarray.DataArray 'tas' (ensemble: 100, year: 250)>\n",
       "dask.array<shape=(100, 250), dtype=float32, chunksize=(1, 1)>\n",
       "Coordinates:\n",
       "    height   float64 2.0\n",
       "  * year     (year) int64 1850 1851 1852 1853 1854 ... 2095 2096 2097 2098 2099\n",
       "Dimensions without coordinates: ensemble"
      ]
     },
     "execution_count": 11,
     "metadata": {},
     "output_type": "execute_result"
    }
   ],
   "source": [
    "mpi_ge_tas_globalmean"
   ]
  },
  {
   "cell_type": "code",
   "execution_count": 12,
   "id": "529c3fd2-23c9-4493-b94c-09b157b500eb",
   "metadata": {},
   "outputs": [
    {
     "data": {
      "text/plain": [
       "Text(0.5, 1.0, 'MPI-GE GSAT (historical + RCP8.5)')"
      ]
     },
     "execution_count": 12,
     "metadata": {},
     "output_type": "execute_result"
    },
    {
     "data": {
      "image/png": "[encoded data removed]",
      "text/plain": [
       "<Figure size 432x288 with 1 Axes>"
      ]
     },
     "metadata": {
      "needs_background": "light"
     },
     "output_type": "display_data"
    }
   ],
   "source": [
    "plt.plot(mpi_ge_tas_globalmean['year'],mpi_ge_tas_globalmean.transpose(),color='lightblue',linewidth=0.5);\n",
    "plt.plot(mpi_ge_tas_globalmean['year'],mpi_ge_tas_globalmean.mean(dim='ensemble'),color='blue',linewidth=1);\n",
    "plt.title('MPI-GE GSAT (historical + RCP8.5)')"
   ]
  },
  {
   "cell_type": "code",
   "execution_count": null,
   "id": "b3f75aad-c598-4b18-a747-112aa1c2fe56",
   "metadata": {},
   "outputs": [],
   "source": []
  }
 ],
 "metadata": {
  "kernelspec": {
   "display_name": "Pangeo (2019.09.12 - py3.7)",
   "language": "python",
   "name": "pangeo-2019.09.12"
  },
  "language_info": {
   "codemirror_mode": {
    "name": "ipython",
    "version": 3
   },
   "file_extension": ".py",
   "mimetype": "text/x-python",
   "name": "python",
   "nbconvert_exporter": "python",
   "pygments_lexer": "ipython3",
   "version": "3.7.3"
  }
 },
 "nbformat": 4,
 "nbformat_minor": 5
}
