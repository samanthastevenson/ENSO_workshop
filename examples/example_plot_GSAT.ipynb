{
 "cells": [
  {
   "cell_type": "markdown",
   "id": "9e61cdfb-2f85-4328-97a9-e85d7a2b6b24",
   "metadata": {},
   "source": [
    "# Example script: load LE data and plot GSAT\n",
    "\n",
    "This is a basic script that loads output from a large ensemble, does some simple processing, and plots the result.\n",
    "\n",
    "Make sure that preprocessing with bash/cdo script has been run.\n",
    "\n",
    "\n",
    "**Please use the *Pangeo (2019.09.12 - py3.7)* environment.** The standard Python 3 environment does not provide all necessary packages. Of course you can also use your own custom environment."
   ]
  },
  {
   "cell_type": "markdown",
   "id": "4082c0d4-865e-4fe7-9d60-f117b9ad5c09",
   "metadata": {},
   "source": [
    "## Setup\n",
    "### load required packages"
   ]
  },
  {
   "cell_type": "code",
   "execution_count": 1,
   "id": "f78e1095-0534-405d-8ee6-b4af85482478",
   "metadata": {},
   "outputs": [],
   "source": [
    "import matplotlib.pyplot as plt\n",
    "import matplotlib as mpl\n",
    "mpl.rcParams['figure.dpi'] = 300\n",
    "import numpy as np\n",
    "# from scipy.io import netcdf\n",
    "# import scipy.stats as stats\n",
    "import pandas as pd\n",
    "\n",
    "import xarray as xr\n",
    "# import random\n",
    "import os\n",
    "from pprint import pprint\n",
    "from tqdm import tqdm\n",
    "\n",
    "# # Import Cdo-py\n",
    "# import cdo\n",
    "# cdo = cdo.Cdo() #\n",
    "\n",
    "\n",
    "    \n"
   ]
  },
  {
   "cell_type": "markdown",
   "id": "048c4544-f592-42e6-9a3d-c1cc39ed4dbb",
   "metadata": {},
   "source": [
    "## set paths"
   ]
  },
  {
   "cell_type": "code",
   "execution_count": 4,
   "id": "cb484694-dd3e-47e8-b657-624ed680c58e",
   "metadata": {},
   "outputs": [],
   "source": [
    "# directories with SMILE output\n",
    "basedir_MMLEA = '/glade/collections/cdg/data/CLIVAR_LE/'\n",
    "basedir_cmip6_ensembles = '/glade/scratch/rwills/cmip6_ensembles/'\n",
    "\n",
    "# directories with processed output\n",
    "basedir_processed_MMLEA = '/glade/scratch/milinski/'\n",
    "# directory for saving plots\n",
    "plotdir = './plots/test/'\n",
    "if not os.path.exists(plotdir):\n",
    "    os.makedirs(plotdir)\n",
    "    \n",
    "\n"
   ]
  },
  {
   "cell_type": "markdown",
   "id": "b56d4cf5-d41f-4558-aa40-6e89de751989",
   "metadata": {},
   "source": [
    "## List available data"
   ]
  },
  {
   "cell_type": "code",
   "execution_count": 5,
   "id": "f97669c2-ee94-4a9d-a445-e3291493b11f",
   "metadata": {},
   "outputs": [
    {
     "data": {
      "text/plain": [
       "['.jupyter_logs', 'MPI-GE', 'CESM-LENS']"
      ]
     },
     "execution_count": 5,
     "metadata": {},
     "output_type": "execute_result"
    }
   ],
   "source": [
    "# list contents of MMLEA archive\n",
    "os.listdir(basedir_processed_MMLEA)"
   ]
  },
  {
   "cell_type": "code",
   "execution_count": 6,
   "id": "8e6bf35d-d510-47cd-ba3d-520806cfe3c9",
   "metadata": {},
   "outputs": [
    {
     "data": {
      "text/plain": [
       "['ec-earth3_lens',\n",
       " 'ukesm1_lens',\n",
       " 'giss_e21h_lens',\n",
       " 'cnrm_cm6_lens',\n",
       " 'miroc6_lens',\n",
       " 'norcpm1_lens',\n",
       " 'cesm2_lens',\n",
       " 'canesm5_lens',\n",
       " 'access_lens',\n",
       " 'giss_e21g_lens',\n",
       " 'miroc_esm2l_lens',\n",
       " 'ipsl_cm6a_lens']"
      ]
     },
     "execution_count": 6,
     "metadata": {},
     "output_type": "execute_result"
    }
   ],
   "source": [
    "# list available CMIP SMILEs\n",
    "\n",
    "# ignores hidden files and folder with temporary data\n",
    "[f for f in os.listdir(basedir_cmip6_ensembles) if not f.startswith(('.','model_variants','native_grid','unsorted'))]\n"
   ]
  },
  {
   "cell_type": "code",
   "execution_count": 10,
   "id": "d351857b-d814-4bba-b70e-3bb96af4bea8",
   "metadata": {},
   "outputs": [
    {
     "name": "stdout",
     "output_type": "stream",
     "text": [
      "['tas_mpi-ge_r100i1p1_globalmean.nc',\n",
      " 'tas_mpi-ge_r10i1p1_globalmean.nc',\n",
      " 'tas_mpi-ge_r11i1p1_globalmean.nc',\n",
      " 'tas_mpi-ge_r12i1p1_globalmean.nc',\n",
      " 'tas_mpi-ge_r13i1p1_globalmean.nc',\n",
      " 'tas_mpi-ge_r14i1p1_globalmean.nc',\n",
      " 'tas_mpi-ge_r15i1p1_globalmean.nc',\n",
      " 'tas_mpi-ge_r16i1p1_globalmean.nc',\n",
      " 'tas_mpi-ge_r17i1p1_globalmean.nc',\n",
      " 'tas_mpi-ge_r18i1p1_globalmean.nc',\n",
      " 'tas_mpi-ge_r19i1p1_globalmean.nc',\n",
      " 'tas_mpi-ge_r1i1p1_globalmean.nc',\n",
      " 'tas_mpi-ge_r20i1p1_globalmean.nc',\n",
      " 'tas_mpi-ge_r21i1p1_globalmean.nc',\n",
      " 'tas_mpi-ge_r22i1p1_globalmean.nc',\n",
      " 'tas_mpi-ge_r23i1p1_globalmean.nc',\n",
      " 'tas_mpi-ge_r24i1p1_globalmean.nc',\n",
      " 'tas_mpi-ge_r25i1p1_globalmean.nc',\n",
      " 'tas_mpi-ge_r26i1p1_globalmean.nc',\n",
      " 'tas_mpi-ge_r27i1p1_globalmean.nc',\n",
      " 'tas_mpi-ge_r28i1p1_globalmean.nc',\n",
      " 'tas_mpi-ge_r29i1p1_globalmean.nc',\n",
      " 'tas_mpi-ge_r2i1p1_globalmean.nc',\n",
      " 'tas_mpi-ge_r30i1p1_globalmean.nc',\n",
      " 'tas_mpi-ge_r31i1p1_globalmean.nc',\n",
      " 'tas_mpi-ge_r32i1p1_globalmean.nc',\n",
      " 'tas_mpi-ge_r33i1p1_globalmean.nc',\n",
      " 'tas_mpi-ge_r34i1p1_globalmean.nc',\n",
      " 'tas_mpi-ge_r35i1p1_globalmean.nc',\n",
      " 'tas_mpi-ge_r36i1p1_globalmean.nc',\n",
      " 'tas_mpi-ge_r37i1p1_globalmean.nc',\n",
      " 'tas_mpi-ge_r38i1p1_globalmean.nc',\n",
      " 'tas_mpi-ge_r39i1p1_globalmean.nc',\n",
      " 'tas_mpi-ge_r3i1p1_globalmean.nc',\n",
      " 'tas_mpi-ge_r40i1p1_globalmean.nc',\n",
      " 'tas_mpi-ge_r41i1p1_globalmean.nc',\n",
      " 'tas_mpi-ge_r42i1p1_globalmean.nc',\n",
      " 'tas_mpi-ge_r43i1p1_globalmean.nc',\n",
      " 'tas_mpi-ge_r44i1p1_globalmean.nc',\n",
      " 'tas_mpi-ge_r45i1p1_globalmean.nc',\n",
      " 'tas_mpi-ge_r46i1p1_globalmean.nc',\n",
      " 'tas_mpi-ge_r47i1p1_globalmean.nc',\n",
      " 'tas_mpi-ge_r48i1p1_globalmean.nc',\n",
      " 'tas_mpi-ge_r49i1p1_globalmean.nc',\n",
      " 'tas_mpi-ge_r4i1p1_globalmean.nc',\n",
      " 'tas_mpi-ge_r50i1p1_globalmean.nc',\n",
      " 'tas_mpi-ge_r51i1p1_globalmean.nc',\n",
      " 'tas_mpi-ge_r52i1p1_globalmean.nc',\n",
      " 'tas_mpi-ge_r53i1p1_globalmean.nc',\n",
      " 'tas_mpi-ge_r54i1p1_globalmean.nc',\n",
      " 'tas_mpi-ge_r55i1p1_globalmean.nc',\n",
      " 'tas_mpi-ge_r56i1p1_globalmean.nc',\n",
      " 'tas_mpi-ge_r57i1p1_globalmean.nc',\n",
      " 'tas_mpi-ge_r58i1p1_globalmean.nc',\n",
      " 'tas_mpi-ge_r59i1p1_globalmean.nc',\n",
      " 'tas_mpi-ge_r5i1p1_globalmean.nc',\n",
      " 'tas_mpi-ge_r60i1p1_globalmean.nc',\n",
      " 'tas_mpi-ge_r61i1p1_globalmean.nc',\n",
      " 'tas_mpi-ge_r62i1p1_globalmean.nc',\n",
      " 'tas_mpi-ge_r63i1p1_globalmean.nc',\n",
      " 'tas_mpi-ge_r64i1p1_globalmean.nc',\n",
      " 'tas_mpi-ge_r65i1p1_globalmean.nc',\n",
      " 'tas_mpi-ge_r66i1p1_globalmean.nc',\n",
      " 'tas_mpi-ge_r67i1p1_globalmean.nc',\n",
      " 'tas_mpi-ge_r68i1p1_globalmean.nc',\n",
      " 'tas_mpi-ge_r69i1p1_globalmean.nc',\n",
      " 'tas_mpi-ge_r6i1p1_globalmean.nc',\n",
      " 'tas_mpi-ge_r70i1p1_globalmean.nc',\n",
      " 'tas_mpi-ge_r71i1p1_globalmean.nc',\n",
      " 'tas_mpi-ge_r72i1p1_globalmean.nc',\n",
      " 'tas_mpi-ge_r73i1p1_globalmean.nc',\n",
      " 'tas_mpi-ge_r74i1p1_globalmean.nc',\n",
      " 'tas_mpi-ge_r75i1p1_globalmean.nc',\n",
      " 'tas_mpi-ge_r76i1p1_globalmean.nc',\n",
      " 'tas_mpi-ge_r77i1p1_globalmean.nc',\n",
      " 'tas_mpi-ge_r78i1p1_globalmean.nc',\n",
      " 'tas_mpi-ge_r79i1p1_globalmean.nc',\n",
      " 'tas_mpi-ge_r7i1p1_globalmean.nc',\n",
      " 'tas_mpi-ge_r80i1p1_globalmean.nc',\n",
      " 'tas_mpi-ge_r81i1p1_globalmean.nc',\n",
      " 'tas_mpi-ge_r82i1p1_globalmean.nc',\n",
      " 'tas_mpi-ge_r83i1p1_globalmean.nc',\n",
      " 'tas_mpi-ge_r84i1p1_globalmean.nc',\n",
      " 'tas_mpi-ge_r85i1p1_globalmean.nc',\n",
      " 'tas_mpi-ge_r86i1p1_globalmean.nc',\n",
      " 'tas_mpi-ge_r87i1p1_globalmean.nc',\n",
      " 'tas_mpi-ge_r88i1p1_globalmean.nc',\n",
      " 'tas_mpi-ge_r89i1p1_globalmean.nc',\n",
      " 'tas_mpi-ge_r8i1p1_globalmean.nc',\n",
      " 'tas_mpi-ge_r90i1p1_globalmean.nc',\n",
      " 'tas_mpi-ge_r91i1p1_globalmean.nc',\n",
      " 'tas_mpi-ge_r92i1p1_globalmean.nc',\n",
      " 'tas_mpi-ge_r93i1p1_globalmean.nc',\n",
      " 'tas_mpi-ge_r94i1p1_globalmean.nc',\n",
      " 'tas_mpi-ge_r95i1p1_globalmean.nc',\n",
      " 'tas_mpi-ge_r96i1p1_globalmean.nc',\n",
      " 'tas_mpi-ge_r97i1p1_globalmean.nc',\n",
      " 'tas_mpi-ge_r98i1p1_globalmean.nc',\n",
      " 'tas_mpi-ge_r99i1p1_globalmean.nc',\n",
      " 'tas_mpi-ge_r9i1p1_globalmean.nc']\n"
     ]
    }
   ],
   "source": [
    "# explore MPI-GE data in more detail\n",
    "filelist = os.listdir(basedir_processed_MMLEA+'MPI-GE/global_mean/')\n",
    "filelist.sort()\n",
    "pprint(filelist)"
   ]
  },
  {
   "cell_type": "markdown",
   "id": "a3216808-eac4-4d09-b4bf-436a3f365f51",
   "metadata": {},
   "source": [
    "## load MPI-GE"
   ]
  },
  {
   "cell_type": "code",
   "execution_count": 11,
   "id": "222ba561-3772-4f92-9c2a-b881765cb3e4",
   "metadata": {},
   "outputs": [],
   "source": [
    "var = 'tas'\n",
    "filepath = basedir_processed_MMLEA + 'MPI-GE/global_mean/'\n",
    "\n",
    "mpi_ge_tas = xr.open_mfdataset(filepath + '*.nc',combine='nested',concat_dim='ensemble')[var]"
   ]
  },
  {
   "cell_type": "code",
   "execution_count": 12,
   "id": "fd3438c4-9925-460b-83fd-62200d13d187",
   "metadata": {},
   "outputs": [
    {
     "data": {
      "text/plain": [
       "<xarray.DataArray 'tas' (ensemble: 100, time: 3000, lat: 1, lon: 1)>\n",
       "dask.array<shape=(100, 3000, 1, 1), dtype=float32, chunksize=(1, 3000, 1, 1)>\n",
       "Coordinates:\n",
       "  * time     (time) datetime64[ns] 1850-01-16T12:00:00 ... 2099-12-16T12:00:00\n",
       "  * lon      (lon) float64 0.0\n",
       "  * lat      (lat) float64 0.0\n",
       "    height   float64 2.0\n",
       "Dimensions without coordinates: ensemble\n",
       "Attributes:\n",
       "    standard_name:     air_temperature\n",
       "    long_name:         Near-Surface Air Temperature\n",
       "    units:             K\n",
       "    cell_methods:      time: mean\n",
       "    cell_measures:     area: areacella\n",
       "    associated_files:  baseURL: http://cmip-pcmdi.llnl.gov/CMIP5/dataLocation..."
      ]
     },
     "execution_count": 12,
     "metadata": {},
     "output_type": "execute_result"
    }
   ],
   "source": [
    "mpi_ge_tas"
   ]
  },
  {
   "cell_type": "markdown",
   "id": "36aba449-6f65-4151-a722-da1db2485a7e",
   "metadata": {},
   "source": [
    "### plot GSAT"
   ]
  },
  {
   "cell_type": "code",
   "execution_count": 17,
   "id": "860bacaa-1268-4644-8ed1-d59506047823",
   "metadata": {},
   "outputs": [],
   "source": [
    "# compute annual mean\n",
    "mpi_ge_tas_globalmean = mpi_ge_tas.groupby('time.year').mean('time').squeeze()"
   ]
  },
  {
   "cell_type": "code",
   "execution_count": 18,
   "id": "5dc74bbc-534e-4e4f-ab71-ca27be8b818c",
   "metadata": {},
   "outputs": [
    {
     "data": {
      "text/plain": [
       "<xarray.DataArray 'tas' (ensemble: 100, year: 250)>\n",
       "dask.array<shape=(100, 250), dtype=float32, chunksize=(1, 1)>\n",
       "Coordinates:\n",
       "    lon      float64 0.0\n",
       "    lat      float64 0.0\n",
       "    height   float64 2.0\n",
       "  * year     (year) int64 1850 1851 1852 1853 1854 ... 2095 2096 2097 2098 2099\n",
       "Dimensions without coordinates: ensemble"
      ]
     },
     "execution_count": 18,
     "metadata": {},
     "output_type": "execute_result"
    }
   ],
   "source": [
    "mpi_ge_tas_globalmean"
   ]
  },
  {
   "cell_type": "code",
   "execution_count": 19,
   "id": "e342bc20-b3ad-49a6-87a6-8c660b08e163",
   "metadata": {},
   "outputs": [
    {
     "data": {
      "text/plain": [
       "Text(0.5, 1.0, 'MPI-GE GSAT (historical + RCP8.5)')"
      ]
     },
     "execution_count": 19,
     "metadata": {},
     "output_type": "execute_result"
    },
    {
     "data": {
      "image/png": "[encoded data removed]",
      "text/plain": [
       "<Figure size 432x288 with 1 Axes>"
      ]
     },
     "metadata": {
      "needs_background": "light"
     },
     "output_type": "display_data"
    }
   ],
   "source": [
    "plt.plot(mpi_ge_tas_globalmean['year'],mpi_ge_tas_globalmean.transpose(),color='lightblue',linewidth=0.5);\n",
    "plt.plot(mpi_ge_tas_globalmean['year'],mpi_ge_tas_globalmean.mean(dim='ensemble'),color='blue',linewidth=1);\n",
    "plt.title('MPI-GE GSAT (historical + RCP8.5)')"
   ]
  },
  {
   "cell_type": "code",
   "execution_count": null,
   "id": "bd0f5b7f-3c94-4782-ab46-79f7de3c6d97",
   "metadata": {},
   "outputs": [],
   "source": []
  },
  {
   "cell_type": "code",
   "execution_count": null,
   "id": "2f387fe8-7662-4e16-bbbc-be0964c50313",
   "metadata": {},
   "outputs": [],
   "source": []
  }
 ],
 "metadata": {
  "kernelspec": {
   "display_name": "Pangeo (2019.09.12 - py3.7)",
   "language": "python",
   "name": "pangeo-2019.09.12"
  },
  "language_info": {
   "codemirror_mode": {
    "name": "ipython",
    "version": 3
   },
   "file_extension": ".py",
   "mimetype": "text/x-python",
   "name": "python",
   "nbconvert_exporter": "python",
   "pygments_lexer": "ipython3",
   "version": "3.7.3"
  }
 },
 "nbformat": 4,
 "nbformat_minor": 5
}
