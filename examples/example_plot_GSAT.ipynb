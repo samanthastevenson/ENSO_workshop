{
 "cells": [
  {
   "cell_type": "markdown",
   "id": "9e61cdfb-2f85-4328-97a9-e85d7a2b6b24",
   "metadata": {},
   "source": [
    "# Example script: load LE data and plot GSAT\n",
    "\n",
    "This is a basic script that loads output from a large ensemble, does some simple processing, and plots the result.\n",
    "\n",
    "Make sure that preprocessing with bash/cdo script has been run.\n",
    "\n",
    "\n",
    "**Please use the *Pangeo (2019.09.12 - py3.7)* environment.** The standard Python 3 environment does not provide all necessary packages. Of course you can also use your own custom environment."
   ]
  },
  {
   "cell_type": "markdown",
   "id": "4082c0d4-865e-4fe7-9d60-f117b9ad5c09",
   "metadata": {},
   "source": [
    "## Setup\n",
    "### load required packages"
   ]
  },
  {
   "cell_type": "code",
   "execution_count": 1,
   "id": "f78e1095-0534-405d-8ee6-b4af85482478",
   "metadata": {},
   "outputs": [],
   "source": [
    "import matplotlib.pyplot as plt\n",
    "import matplotlib as mpl\n",
    "mpl.rcParams['figure.dpi'] = 300\n",
    "import numpy as np\n",
    "# from scipy.io import netcdf\n",
    "# import scipy.stats as stats\n",
    "import pandas as pd\n",
    "\n",
    "import xarray as xr\n",
    "# import random\n",
    "import os\n",
    "from pprint import pprint\n",
    "from tqdm import tqdm\n",
    "\n",
    "# # Import Cdo-py (only works with custom environment)\n",
    "# import cdo\n",
    "# cdo = cdo.Cdo() #\n",
    "\n",
    "\n",
    "    \n"
   ]
  },
  {
   "cell_type": "markdown",
   "id": "048c4544-f592-42e6-9a3d-c1cc39ed4dbb",
   "metadata": {},
   "source": [
    "## set paths"
   ]
  },
  {
   "cell_type": "code",
   "execution_count": 4,
   "id": "cb484694-dd3e-47e8-b657-624ed680c58e",
   "metadata": {},
   "outputs": [],
   "source": [
    "# directories with SMILE output\n",
    "basedir_MMLEA = '/glade/collections/cdg/data/CLIVAR_LE/'\n",
    "basedir_cmip6_ensembles = '/glade/scratch/rwills/cmip6_ensembles/'\n",
    "\n",
    "# directories with processed output\n",
    "basedir_processed_MMLEA = '/glade/scratch/milinski/SMILEs/'\n",
    "\n",
    "# directory for saving plots\n",
    "plotdir = './plots/test/'\n",
    "if not os.path.exists(plotdir):\n",
    "    os.makedirs(plotdir)\n",
    "    \n",
    "\n"
   ]
  },
  {
   "cell_type": "markdown",
   "id": "b56d4cf5-d41f-4558-aa40-6e89de751989",
   "metadata": {},
   "source": [
    "## List available data"
   ]
  },
  {
   "cell_type": "code",
   "execution_count": 7,
   "id": "f97669c2-ee94-4a9d-a445-e3291493b11f",
   "metadata": {},
   "outputs": [
    {
     "data": {
      "text/plain": [
       "['csiro_mk36_lens',\n",
       " 'olens_mckinnon',\n",
       " 'cesm_lens',\n",
       " 'CVDP-LE',\n",
       " 'gfdl_cm3_lens',\n",
       " 'ec_earth_lens',\n",
       " 'canesm2_lens',\n",
       " 'gfdl_esm2m_lens',\n",
       " 'mpi_lens',\n",
       " 'olens_mckinnon_update_08142019']"
      ]
     },
     "execution_count": 7,
     "metadata": {},
     "output_type": "execute_result"
    }
   ],
   "source": [
    "# list contents of MMLEA archive\n",
    "[f for f in os.listdir(basedir_MMLEA) if not f.startswith(('.'))]"
   ]
  },
  {
   "cell_type": "code",
   "execution_count": 8,
   "id": "84c31605-9bd9-47ab-80d3-02d7828d31dc",
   "metadata": {},
   "outputs": [
    {
     "data": {
      "text/plain": [
       "['MPI-GE', 'CanESM2']"
      ]
     },
     "execution_count": 8,
     "metadata": {},
     "output_type": "execute_result"
    }
   ],
   "source": [
    "# list contents of processed SMILEs\n",
    "[f for f in os.listdir(basedir_processed_MMLEA) if not f.startswith(('.'))]"
   ]
  },
  {
   "cell_type": "code",
   "execution_count": 9,
   "id": "8e6bf35d-d510-47cd-ba3d-520806cfe3c9",
   "metadata": {},
   "outputs": [
    {
     "data": {
      "text/plain": [
       "['ec-earth3_lens',\n",
       " 'ukesm1_lens',\n",
       " 'giss_e21h_lens',\n",
       " 'cnrm_cm6_lens',\n",
       " 'miroc6_lens',\n",
       " 'norcpm1_lens',\n",
       " 'cesm2_lens',\n",
       " 'canesm5_lens',\n",
       " 'access_lens',\n",
       " 'giss_e21g_lens',\n",
       " 'miroc_esm2l_lens',\n",
       " 'ipsl_cm6a_lens']"
      ]
     },
     "execution_count": 9,
     "metadata": {},
     "output_type": "execute_result"
    }
   ],
   "source": [
    "# list available CMIP SMILEs\n",
    "\n",
    "# ignores hidden files and folder with temporary data\n",
    "[f for f in os.listdir(basedir_cmip6_ensembles) if not f.startswith(('.','model_variants','native_grid','unsorted'))]\n"
   ]
  },
  {
   "cell_type": "code",
   "execution_count": 10,
   "id": "d351857b-d814-4bba-b70e-3bb96af4bea8",
   "metadata": {},
   "outputs": [
    {
     "name": "stdout",
     "output_type": "stream",
     "text": [
      "['tas_mpi-ge_r100i1p1_globalmean.nc',\n",
      " 'tas_mpi-ge_r10i1p1_globalmean.nc',\n",
      " 'tas_mpi-ge_r11i1p1_globalmean.nc',\n",
      " 'tas_mpi-ge_r12i1p1_globalmean.nc',\n",
      " 'tas_mpi-ge_r13i1p1_globalmean.nc',\n",
      " 'tas_mpi-ge_r14i1p1_globalmean.nc',\n",
      " 'tas_mpi-ge_r15i1p1_globalmean.nc',\n",
      " 'tas_mpi-ge_r16i1p1_globalmean.nc',\n",
      " 'tas_mpi-ge_r17i1p1_globalmean.nc',\n",
      " 'tas_mpi-ge_r18i1p1_globalmean.nc',\n",
      " 'tas_mpi-ge_r19i1p1_globalmean.nc',\n",
      " 'tas_mpi-ge_r1i1p1_globalmean.nc',\n",
      " 'tas_mpi-ge_r20i1p1_globalmean.nc',\n",
      " 'tas_mpi-ge_r21i1p1_globalmean.nc',\n",
      " 'tas_mpi-ge_r22i1p1_globalmean.nc',\n",
      " 'tas_mpi-ge_r23i1p1_globalmean.nc',\n",
      " 'tas_mpi-ge_r24i1p1_globalmean.nc',\n",
      " 'tas_mpi-ge_r25i1p1_globalmean.nc',\n",
      " 'tas_mpi-ge_r26i1p1_globalmean.nc',\n",
      " 'tas_mpi-ge_r27i1p1_globalmean.nc',\n",
      " 'tas_mpi-ge_r28i1p1_globalmean.nc',\n",
      " 'tas_mpi-ge_r29i1p1_globalmean.nc',\n",
      " 'tas_mpi-ge_r2i1p1_globalmean.nc',\n",
      " 'tas_mpi-ge_r30i1p1_globalmean.nc',\n",
      " 'tas_mpi-ge_r31i1p1_globalmean.nc',\n",
      " 'tas_mpi-ge_r32i1p1_globalmean.nc',\n",
      " 'tas_mpi-ge_r33i1p1_globalmean.nc',\n",
      " 'tas_mpi-ge_r34i1p1_globalmean.nc',\n",
      " 'tas_mpi-ge_r35i1p1_globalmean.nc',\n",
      " 'tas_mpi-ge_r36i1p1_globalmean.nc',\n",
      " 'tas_mpi-ge_r37i1p1_globalmean.nc',\n",
      " 'tas_mpi-ge_r38i1p1_globalmean.nc',\n",
      " 'tas_mpi-ge_r39i1p1_globalmean.nc',\n",
      " 'tas_mpi-ge_r3i1p1_globalmean.nc',\n",
      " 'tas_mpi-ge_r40i1p1_globalmean.nc',\n",
      " 'tas_mpi-ge_r41i1p1_globalmean.nc',\n",
      " 'tas_mpi-ge_r42i1p1_globalmean.nc',\n",
      " 'tas_mpi-ge_r43i1p1_globalmean.nc',\n",
      " 'tas_mpi-ge_r44i1p1_globalmean.nc',\n",
      " 'tas_mpi-ge_r45i1p1_globalmean.nc',\n",
      " 'tas_mpi-ge_r46i1p1_globalmean.nc',\n",
      " 'tas_mpi-ge_r47i1p1_globalmean.nc',\n",
      " 'tas_mpi-ge_r48i1p1_globalmean.nc',\n",
      " 'tas_mpi-ge_r49i1p1_globalmean.nc',\n",
      " 'tas_mpi-ge_r4i1p1_globalmean.nc',\n",
      " 'tas_mpi-ge_r50i1p1_globalmean.nc',\n",
      " 'tas_mpi-ge_r51i1p1_globalmean.nc',\n",
      " 'tas_mpi-ge_r52i1p1_globalmean.nc',\n",
      " 'tas_mpi-ge_r53i1p1_globalmean.nc',\n",
      " 'tas_mpi-ge_r54i1p1_globalmean.nc',\n",
      " 'tas_mpi-ge_r55i1p1_globalmean.nc',\n",
      " 'tas_mpi-ge_r56i1p1_globalmean.nc',\n",
      " 'tas_mpi-ge_r57i1p1_globalmean.nc',\n",
      " 'tas_mpi-ge_r58i1p1_globalmean.nc',\n",
      " 'tas_mpi-ge_r59i1p1_globalmean.nc',\n",
      " 'tas_mpi-ge_r5i1p1_globalmean.nc',\n",
      " 'tas_mpi-ge_r60i1p1_globalmean.nc',\n",
      " 'tas_mpi-ge_r61i1p1_globalmean.nc',\n",
      " 'tas_mpi-ge_r62i1p1_globalmean.nc',\n",
      " 'tas_mpi-ge_r63i1p1_globalmean.nc',\n",
      " 'tas_mpi-ge_r64i1p1_globalmean.nc',\n",
      " 'tas_mpi-ge_r65i1p1_globalmean.nc',\n",
      " 'tas_mpi-ge_r66i1p1_globalmean.nc',\n",
      " 'tas_mpi-ge_r67i1p1_globalmean.nc',\n",
      " 'tas_mpi-ge_r68i1p1_globalmean.nc',\n",
      " 'tas_mpi-ge_r69i1p1_globalmean.nc',\n",
      " 'tas_mpi-ge_r6i1p1_globalmean.nc',\n",
      " 'tas_mpi-ge_r70i1p1_globalmean.nc',\n",
      " 'tas_mpi-ge_r71i1p1_globalmean.nc',\n",
      " 'tas_mpi-ge_r72i1p1_globalmean.nc',\n",
      " 'tas_mpi-ge_r73i1p1_globalmean.nc',\n",
      " 'tas_mpi-ge_r74i1p1_globalmean.nc',\n",
      " 'tas_mpi-ge_r75i1p1_globalmean.nc',\n",
      " 'tas_mpi-ge_r76i1p1_globalmean.nc',\n",
      " 'tas_mpi-ge_r77i1p1_globalmean.nc',\n",
      " 'tas_mpi-ge_r78i1p1_globalmean.nc',\n",
      " 'tas_mpi-ge_r79i1p1_globalmean.nc',\n",
      " 'tas_mpi-ge_r7i1p1_globalmean.nc',\n",
      " 'tas_mpi-ge_r80i1p1_globalmean.nc',\n",
      " 'tas_mpi-ge_r81i1p1_globalmean.nc',\n",
      " 'tas_mpi-ge_r82i1p1_globalmean.nc',\n",
      " 'tas_mpi-ge_r83i1p1_globalmean.nc',\n",
      " 'tas_mpi-ge_r84i1p1_globalmean.nc',\n",
      " 'tas_mpi-ge_r85i1p1_globalmean.nc',\n",
      " 'tas_mpi-ge_r86i1p1_globalmean.nc',\n",
      " 'tas_mpi-ge_r87i1p1_globalmean.nc',\n",
      " 'tas_mpi-ge_r88i1p1_globalmean.nc',\n",
      " 'tas_mpi-ge_r89i1p1_globalmean.nc',\n",
      " 'tas_mpi-ge_r8i1p1_globalmean.nc',\n",
      " 'tas_mpi-ge_r90i1p1_globalmean.nc',\n",
      " 'tas_mpi-ge_r91i1p1_globalmean.nc',\n",
      " 'tas_mpi-ge_r92i1p1_globalmean.nc',\n",
      " 'tas_mpi-ge_r93i1p1_globalmean.nc',\n",
      " 'tas_mpi-ge_r94i1p1_globalmean.nc',\n",
      " 'tas_mpi-ge_r95i1p1_globalmean.nc',\n",
      " 'tas_mpi-ge_r96i1p1_globalmean.nc',\n",
      " 'tas_mpi-ge_r97i1p1_globalmean.nc',\n",
      " 'tas_mpi-ge_r98i1p1_globalmean.nc',\n",
      " 'tas_mpi-ge_r99i1p1_globalmean.nc',\n",
      " 'tas_mpi-ge_r9i1p1_globalmean.nc']\n"
     ]
    }
   ],
   "source": [
    "# explore MPI-GE data in more detail\n",
    "filelist = os.listdir(basedir_processed_MMLEA+'MPI-GE/global_mean/')\n",
    "filelist.sort()\n",
    "pprint(filelist)"
   ]
  },
  {
   "cell_type": "markdown",
   "id": "a3216808-eac4-4d09-b4bf-436a3f365f51",
   "metadata": {},
   "source": [
    "## load MPI-GE"
   ]
  },
  {
   "cell_type": "code",
   "execution_count": 21,
   "id": "1e2ce7cc-a9fd-4f45-b456-e033e527a02e",
   "metadata": {},
   "outputs": [
    {
     "name": "stderr",
     "output_type": "stream",
     "text": [
      "100%|██████████| 100/100 [00:00<00:00, 166.98it/s]\n"
     ]
    }
   ],
   "source": [
    "var = 'tas'\n",
    "model = 'mpi-ge'\n",
    "filepath = basedir_processed_MMLEA + 'MPI-GE/global_mean/'\n",
    "\n",
    "file_prefix=var+'_'+model+'_'\n",
    "file_suffix='_globalmean.nc'\n",
    "\n",
    "# initialise array:\n",
    "ds = []\n",
    "\n",
    "for member in tqdm(range(1,101)):\n",
    "    id = 'r'+str(member)+'i1p1'\n",
    "    file = file_prefix+id+file_suffix\n",
    "    member = xr.open_dataset(filepath+file_prefix+id+file_suffix).squeeze()\n",
    "    ds.append(member)\n",
    "\n",
    "\n",
    "mpi_ge_GSAT = xr.concat(ds, dim='ensemble')\n",
    "mpi_ge_GSAT['tas'] = mpi_ge_GSAT['tas']-273.15 # K to °C"
   ]
  },
  {
   "cell_type": "code",
   "execution_count": 22,
   "id": "fd3438c4-9925-460b-83fd-62200d13d187",
   "metadata": {},
   "outputs": [
    {
     "data": {
      "text/plain": [
       "<xarray.Dataset>\n",
       "Dimensions:    (bnds: 2, ensemble: 100, time: 3000)\n",
       "Coordinates:\n",
       "  * time       (time) datetime64[ns] 1850-01-16T12:00:00 ... 2099-12-16T12:00:00\n",
       "    lon        float64 0.0\n",
       "    lat        float64 0.0\n",
       "    height     float64 2.0\n",
       "Dimensions without coordinates: bnds, ensemble\n",
       "Data variables:\n",
       "    time_bnds  (ensemble, time, bnds) datetime64[ns] 1850-01-01 ... 2100-01-01\n",
       "    tas        (ensemble, time) float32 11.948334 12.006012 ... 16.201263\n",
       "Attributes:\n",
       "    CDI:                    Climate Data Interface version 1.9.9 (https://mpi...\n",
       "    Conventions:            CF-1.4\n",
       "    source:                 MPI-ESM 1.1.00p2\n",
       "    institution:            Max-Planck-Institut fuer Meteorologie\n",
       "    history:                Fri Aug 06 19:57:42 2021: cdo fldmean /glade/coll...\n",
       "    institute_id:           MPI-M\n",
       "    experiment_id:          historical\n",
       "    model_id:               MPI-ESM\n",
       "    forcing:                N/A\n",
       "    parent_experiment_id:   piControl\n",
       "    parent_experiment_rip:  r1i1p1\n",
       "    branch_time:            0.0\n",
       "    contact:                michael.botzet@mpimet.mpg.de\n",
       "    references:             Maher etal 2018\n",
       "    initialization_method:  1850\n",
       "    physics_version:        3\n",
       "    tracking_id:            15d06cf5-9b07-4811-83a3-559267a9e7fd\n",
       "    product:                output\n",
       "    experiment:             historical\n",
       "    frequency:              mon\n",
       "    creation_date:          2018-08-22T21:17:57Z\n",
       "    project_id:             CMIP5\n",
       "    table_id:               Table Amon (17 July 2013) 97d3bd8711883aca8d9e383...\n",
       "    title:                  MPI-ESM model output prepared for CMIP5 historical\n",
       "    parent_experiment:      pre-industrial control\n",
       "    modeling_realm:         atmos\n",
       "    realization:            1\n",
       "    cmor_version:           2.9.1\n",
       "    CDO:                    Climate Data Operators version 1.9.9 (https://mpi..."
      ]
     },
     "execution_count": 22,
     "metadata": {},
     "output_type": "execute_result"
    }
   ],
   "source": [
    "mpi_ge_GSAT"
   ]
  },
  {
   "cell_type": "markdown",
   "id": "36aba449-6f65-4151-a722-da1db2485a7e",
   "metadata": {},
   "source": [
    "### plot GSAT"
   ]
  },
  {
   "cell_type": "code",
   "execution_count": 47,
   "id": "860bacaa-1268-4644-8ed1-d59506047823",
   "metadata": {},
   "outputs": [],
   "source": [
    "# compute annual mean\n",
    "mpi_ge_GSAT_ym = mpi_ge_GSAT.groupby('time.year').mean('time')\n",
    "\n",
    "# compute anomalies relative to 1850-1900\n",
    "offset = mpi_ge_GSAT['tas'].loc[:,'1850-01-01':'1900-12-31'].mean(dim='time').mean(dim='ensemble')\n",
    "mpi_ge_GSAT_ym_anom = mpi_ge_GSAT_ym - offset"
   ]
  },
  {
   "cell_type": "code",
   "execution_count": 48,
   "id": "5dc74bbc-534e-4e4f-ab71-ca27be8b818c",
   "metadata": {},
   "outputs": [
    {
     "data": {
      "text/plain": [
       "<xarray.Dataset>\n",
       "Dimensions:  (ensemble: 100, year: 250)\n",
       "Coordinates:\n",
       "    lon      float64 0.0\n",
       "    lat      float64 0.0\n",
       "    height   float64 2.0\n",
       "  * year     (year) int64 1850 1851 1852 1853 1854 ... 2095 2096 2097 2098 2099\n",
       "Dimensions without coordinates: ensemble\n",
       "Data variables:\n",
       "    tas      (year, ensemble) float32 0.15856838 -0.0310812 ... 4.0157986"
      ]
     },
     "execution_count": 48,
     "metadata": {},
     "output_type": "execute_result"
    }
   ],
   "source": [
    "mpi_ge_GSAT_ym_anom"
   ]
  },
  {
   "cell_type": "code",
   "execution_count": 52,
   "id": "e342bc20-b3ad-49a6-87a6-8c660b08e163",
   "metadata": {},
   "outputs": [
    {
     "data": {
      "image/png": "[encoded data removed]",
      "text/plain": [
       "<Figure size 432x288 with 1 Axes>"
      ]
     },
     "metadata": {
      "needs_background": "light"
     },
     "output_type": "display_data"
    }
   ],
   "source": [
    "plt.plot(mpi_ge_GSAT_ym_anom['year'],mpi_ge_GSAT_ym_anom['tas'],color='lightblue',linewidth=0.5);\n",
    "plt.plot(mpi_ge_GSAT_ym_anom['year'],mpi_ge_GSAT_ym_anom['tas'].mean(dim='ensemble'),color='blue',linewidth=1);\n",
    "plt.title('MPI-GE GSAT (historical + RCP8.5)')\n",
    "\n",
    "plt.ylabel('GSAT anomaly rel. to 1850-1900')\n",
    "plt.xlim([1850,2100])\n",
    "\n",
    "plt.savefig(plotdir+'GSAT_MPI-GE.pdf', bbox_inches='tight', dpi=300)"
   ]
  },
  {
   "cell_type": "markdown",
   "id": "3453425c-08ce-4ad0-8583-5beb5c6e739f",
   "metadata": {},
   "source": [
    "## load CanESM2"
   ]
  },
  {
   "cell_type": "code",
   "execution_count": 54,
   "id": "b9de67f3-65e8-46a1-80bc-d30634aee09c",
   "metadata": {},
   "outputs": [
    {
     "name": "stderr",
     "output_type": "stream",
     "text": [
      "100%|██████████| 50/50 [00:01<00:00, 26.42it/s]\n"
     ]
    }
   ],
   "source": [
    "var = 'tas'\n",
    "model = 'canesm2'\n",
    "filepath = basedir_processed_MMLEA + 'CanESM2/global_mean/'\n",
    "\n",
    "file_prefix=var+'_'+model+'_'\n",
    "file_suffix='_globalmean.nc'\n",
    "\n",
    "# initialise array:\n",
    "ds = []\n",
    "\n",
    "for member in tqdm(range(1,51)):\n",
    "    id = 'r'+str(member)+'i1p1'\n",
    "    file = file_prefix+id+file_suffix\n",
    "    member = xr.open_dataset(filepath+file_prefix+id+file_suffix).squeeze()\n",
    "    ds.append(member)\n",
    "\n",
    "\n",
    "canesm2_GSAT = xr.concat(ds, dim='ensemble')\n",
    "canesm2_GSAT['tas'] = canesm2_GSAT['tas']-273.15 # K to °C"
   ]
  },
  {
   "cell_type": "markdown",
   "id": "98b62002-6a25-44d3-93ee-3162eea61586",
   "metadata": {},
   "source": [
    "### CanESM historical\n",
    "load CMIP5 historical members 1850-2005 to compute 1850-1900 average"
   ]
  },
  {
   "cell_type": "code",
   "execution_count": 58,
   "id": "0e9e82ff-0543-43f3-8477-6c13dc45f863",
   "metadata": {},
   "outputs": [
    {
     "name": "stderr",
     "output_type": "stream",
     "text": [
      "100%|██████████| 5/5 [00:00<00:00, 44.40it/s]\n"
     ]
    }
   ],
   "source": [
    "var = 'tas'\n",
    "model = 'canesm2'\n",
    "filepath = basedir_processed_MMLEA + 'CanESM2/global_mean/'\n",
    "\n",
    "file_prefix=var+'_'+model+'_'\n",
    "file_suffix='_historical_1850-2005_globalmean.nc'\n",
    "\n",
    "# initialise array:\n",
    "ds = []\n",
    "\n",
    "for member in tqdm(range(1,6)):\n",
    "    id = 'r'+str(member)+'i1p1'\n",
    "    file = file_prefix+id+file_suffix\n",
    "    member = xr.open_dataset(filepath+file_prefix+id+file_suffix).squeeze()\n",
    "    ds.append(member)\n",
    "\n",
    "\n",
    "canesm2_historical_GSAT = xr.concat(ds, dim='ensemble')\n",
    "canesm2_historical_GSAT['tas'] = canesm2_historical_GSAT['tas']-273.15 # K to °C"
   ]
  },
  {
   "cell_type": "markdown",
   "id": "3a5ac04c-2b6f-4557-8bf2-a16487ab9295",
   "metadata": {},
   "source": [
    "### plot GSAT"
   ]
  },
  {
   "cell_type": "code",
   "execution_count": 61,
   "id": "23f98dfb-2c16-4cf2-9504-5b4eb74a8dc8",
   "metadata": {},
   "outputs": [],
   "source": [
    "canesm2_offset = canesm2_historical_GSAT['tas'].loc[:,'1850-01-01':'1900-12-31'].mean(dim='time').mean(dim='ensemble')"
   ]
  },
  {
   "cell_type": "code",
   "execution_count": 62,
   "id": "251ebad8-f51c-43eb-8bc9-0180f05da614",
   "metadata": {},
   "outputs": [],
   "source": [
    "# compute annual mean\n",
    "canesm2_GSAT_ym = canesm2_GSAT.groupby('time.year').mean('time')\n",
    "canesm2_GSAT_historical_ym = canesm2_historical_GSAT.groupby('time.year').mean('time')\n",
    "\n",
    "# compute anomalies relative to 1850-1900\n",
    "canesm2_GSAT_ym_anom = canesm2_GSAT_ym - canesm2_offset\n",
    "canesm2_GSAT_historical_ym_anom = canesm2_GSAT_historical_ym - canesm2_offset"
   ]
  },
  {
   "cell_type": "code",
   "execution_count": 65,
   "id": "640655d3-4a76-4309-a3f6-10a9d5e126e6",
   "metadata": {},
   "outputs": [
    {
     "data": {
      "image/png": "[encoded data removed]",
      "text/plain": [
       "<Figure size 432x288 with 1 Axes>"
      ]
     },
     "metadata": {
      "needs_background": "light"
     },
     "output_type": "display_data"
    }
   ],
   "source": [
    "# historical members\n",
    "plt.plot(canesm2_GSAT_historical_ym_anom['year'],canesm2_GSAT_historical_ym_anom['tas'],color='grey',linewidth=0.5);\n",
    "plt.plot(canesm2_GSAT_historical_ym_anom['year'],canesm2_GSAT_historical_ym_anom['tas'].mean(dim='ensemble'),color='black',linewidth=1);\n",
    "\n",
    "# LE members\n",
    "plt.plot(canesm2_GSAT_ym_anom['year'],canesm2_GSAT_ym_anom['tas'],color='lightblue',linewidth=0.5);\n",
    "plt.plot(canesm2_GSAT_ym_anom['year'],canesm2_GSAT_ym_anom['tas'].mean(dim='ensemble'),color='blue',linewidth=1);\n",
    "plt.title('CanESM2 GSAT (historical + RCP8.5)')\n",
    "\n",
    "plt.ylabel('GSAT anomaly rel. to 1850-1900')\n",
    "plt.xlim([1850,2100])\n",
    "\n",
    "plt.savefig(plotdir+'GSAT_CanESM2.pdf', bbox_inches='tight', dpi=300)"
   ]
  },
  {
   "cell_type": "code",
   "execution_count": null,
   "id": "bd0f5b7f-3c94-4782-ab46-79f7de3c6d97",
   "metadata": {},
   "outputs": [],
   "source": []
  },
  {
   "cell_type": "code",
   "execution_count": null,
   "id": "2f387fe8-7662-4e16-bbbc-be0964c50313",
   "metadata": {},
   "outputs": [],
   "source": []
  }
 ],
 "metadata": {
  "kernelspec": {
   "display_name": "Pangeo (2019.09.12 - py3.7)",
   "language": "python",
   "name": "pangeo-2019.09.12"
  },
  "language_info": {
   "codemirror_mode": {
    "name": "ipython",
    "version": 3
   },
   "file_extension": ".py",
   "mimetype": "text/x-python",
   "name": "python",
   "nbconvert_exporter": "python",
   "pygments_lexer": "ipython3",
   "version": "3.7.3"
  }
 },
 "nbformat": 4,
 "nbformat_minor": 5
}
