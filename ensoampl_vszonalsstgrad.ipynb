{
 "cells": [
  {
   "cell_type": "markdown",
   "id": "e3b81e0e-2a85-4c0b-88cc-7623a8e914bb",
   "metadata": {},
   "source": [
    "# Relate zonal SST gradient to changes in ENSO variance\n"
   ]
  },
  {
   "cell_type": "code",
   "execution_count": 1,
   "id": "997ab3c8-51b3-4664-bf94-827c8a9657fe",
   "metadata": {},
   "outputs": [],
   "source": [
    "import matplotlib.pyplot as plt\n",
    "import matplotlib as mpl\n",
    "mpl.rcParams['figure.dpi'] = 300\n",
    "mpl.rcParams['pdf.fonttype'] = 42\n",
    "font = {'family' : 'sans',\n",
    "        'weight' : 'normal',\n",
    "        'size'   : 13}\n",
    "mpl.rc('font', **font)\n",
    "\n",
    "import numpy as np\n",
    "# from scipy.io import netcdf\n",
    "# import scipy.stats as stats\n",
    "import pandas as pd\n",
    "\n",
    "import xarray as xr\n",
    "# import random\n",
    "import os\n",
    "from pprint import pprint\n",
    "from tqdm import tqdm\n",
    "import cftime"
   ]
  },
  {
   "cell_type": "markdown",
   "id": "c9ceafd8-a2a8-4659-930c-a77980d4f972",
   "metadata": {},
   "source": [
    "## Basic information for reading in data"
   ]
  },
  {
   "cell_type": "code",
   "execution_count": 2,
   "id": "e9f7defb-53e1-46b4-a18e-d3c6afa58942",
   "metadata": {},
   "outputs": [],
   "source": [
    "# directory for saving plots\n",
    "plotdir = '/glade/scratch/samantha/plots/ENSOworkshop/'\n",
    "if not os.path.exists(plotdir):\n",
    "    os.makedirs(plotdir)\n",
    "    \n",
    "basedir_processed_MMLEA = '/glade/work/sasanch/ENSOworkshop/'\n",
    "\n",
    "# Periods to use for calculating differences\n",
    "#st_int=[1951,1980]\n",
    "#end_int=[2070,2099]\n",
    "#end_int=[2021,2050]\n",
    "\n",
    "st_int=[1950,2005]\n",
    "end_int=[2006,2100]\n",
    "windlen=360"
   ]
  },
  {
   "cell_type": "markdown",
   "id": "231608d1-0f99-4f59-ac09-a7d731bb2721",
   "metadata": {},
   "source": [
    "### Read in time series and SST fields"
   ]
  },
  {
   "cell_type": "code",
   "execution_count": 3,
   "id": "71a107f3-8765-49ea-a854-a441a6f35099",
   "metadata": {},
   "outputs": [
    {
     "name": "stdout",
     "output_type": "stream",
     "text": [
      "['access_lens', 'canesm2_lens', 'canesm5_lens', 'cesm1_lens', 'cesm2_lens', 'csiro_mk36_lens', 'ec-earth3_lens', 'gfdl_cm3_lens', 'gfdl_esm2m_v2_lens', 'gfdl_spear_lens', 'ipsl_cm6a_lens', 'miroc6_lens', 'miroc_esm2l_lens', 'mpi_lens']\n"
     ]
    }
   ],
   "source": [
    "# List models\n",
    "models = [f for f in os.listdir(basedir_processed_MMLEA) if not f.startswith(('.','model_variants','native_grid','unsorted','nino')) and not '.pdf' in f]\n",
    "mods=sorted(models)\n",
    "print(mods)"
   ]
  },
  {
   "cell_type": "markdown",
   "id": "83d1a2fd-2fc5-4a23-b447-8bcf9e5d28f1",
   "metadata": {},
   "source": [
    "There are quite a few models now available! Specifying upper-case model names manually:"
   ]
  },
  {
   "cell_type": "code",
   "execution_count": 4,
   "id": "948f03d4-11bd-43dd-8de4-88de45faf5c4",
   "metadata": {},
   "outputs": [],
   "source": [
    "modscaps=['ACCESS','CanESM2','CanESM5','CESM1','CESM2','CSIRO-Mk3.6','EC-Earth','GFDL-CM3','GFDL-ESM2M','GFDL-SPEAR','IPSL-CM6A','MIROC6','MIROC-ESM2L','MPI']\n",
    "\n",
    "#mods=['cesm1_lens','gfdl_esm2m_v2_lens']\n",
    "#modscaps=['CESM1','GFDL-ESM2M']\n"
   ]
  },
  {
   "cell_type": "markdown",
   "id": "8dfd2ee8-2a77-4d0e-b665-08f3ee7d033e",
   "metadata": {},
   "source": [
    "Now doing the actual reading in of the data!"
   ]
  },
  {
   "cell_type": "code",
   "execution_count": null,
   "id": "03686534-2f9b-41d3-92a9-8331add35cbc",
   "metadata": {},
   "outputs": [
    {
     "name": "stderr",
     "output_type": "stream",
     "text": [
      "  0%|          | 0/14 [00:00<?, ?it/s]"
     ]
    },
    {
     "name": "stdout",
     "output_type": "stream",
     "text": [
      "access_lens\n"
     ]
    },
    {
     "name": "stderr",
     "output_type": "stream",
     "text": [
      "  7%|▋         | 1/14 [01:28<19:09, 88.40s/it]"
     ]
    },
    {
     "name": "stdout",
     "output_type": "stream",
     "text": [
      "canesm2_lens\n"
     ]
    },
    {
     "name": "stderr",
     "output_type": "stream",
     "text": [
      "/glade/work/samantha/npl_clone_16sep2021/lib/python3.7/site-packages/ipykernel_launcher.py:118: RuntimeWarning: Converting a CFTimeIndex with dates from a non-standard calendar, 'noleap', to a pandas.DatetimeIndex, which uses dates from the standard calendar.  This may lead to subtle errors in operations that depend on the length of time between dates.\n",
      "/glade/work/samantha/npl_clone_16sep2021/lib/python3.7/site-packages/ipykernel_launcher.py:120: RuntimeWarning: Converting a CFTimeIndex with dates from a non-standard calendar, 'noleap', to a pandas.DatetimeIndex, which uses dates from the standard calendar.  This may lead to subtle errors in operations that depend on the length of time between dates.\n",
      "/glade/work/samantha/npl_clone_16sep2021/lib/python3.7/site-packages/ipykernel_launcher.py:122: RuntimeWarning: Converting a CFTimeIndex with dates from a non-standard calendar, 'noleap', to a pandas.DatetimeIndex, which uses dates from the standard calendar.  This may lead to subtle errors in operations that depend on the length of time between dates.\n",
      " 14%|█▍        | 2/14 [02:22<15:37, 78.15s/it]"
     ]
    },
    {
     "name": "stdout",
     "output_type": "stream",
     "text": [
      "canesm5_lens\n"
     ]
    },
    {
     "name": "stderr",
     "output_type": "stream",
     "text": [
      "/glade/work/samantha/npl_clone_16sep2021/lib/python3.7/site-packages/ipykernel_launcher.py:118: RuntimeWarning: Converting a CFTimeIndex with dates from a non-standard calendar, 'noleap', to a pandas.DatetimeIndex, which uses dates from the standard calendar.  This may lead to subtle errors in operations that depend on the length of time between dates.\n",
      "/glade/work/samantha/npl_clone_16sep2021/lib/python3.7/site-packages/ipykernel_launcher.py:120: RuntimeWarning: Converting a CFTimeIndex with dates from a non-standard calendar, 'noleap', to a pandas.DatetimeIndex, which uses dates from the standard calendar.  This may lead to subtle errors in operations that depend on the length of time between dates.\n",
      "/glade/work/samantha/npl_clone_16sep2021/lib/python3.7/site-packages/ipykernel_launcher.py:122: RuntimeWarning: Converting a CFTimeIndex with dates from a non-standard calendar, 'noleap', to a pandas.DatetimeIndex, which uses dates from the standard calendar.  This may lead to subtle errors in operations that depend on the length of time between dates.\n",
      " 21%|██▏       | 3/14 [03:38<14:11, 77.43s/it]"
     ]
    },
    {
     "name": "stdout",
     "output_type": "stream",
     "text": [
      "cesm1_lens\n"
     ]
    },
    {
     "name": "stderr",
     "output_type": "stream",
     "text": [
      "/glade/work/samantha/npl_clone_16sep2021/lib/python3.7/site-packages/ipykernel_launcher.py:118: RuntimeWarning: Converting a CFTimeIndex with dates from a non-standard calendar, 'noleap', to a pandas.DatetimeIndex, which uses dates from the standard calendar.  This may lead to subtle errors in operations that depend on the length of time between dates.\n",
      "/glade/work/samantha/npl_clone_16sep2021/lib/python3.7/site-packages/ipykernel_launcher.py:120: RuntimeWarning: Converting a CFTimeIndex with dates from a non-standard calendar, 'noleap', to a pandas.DatetimeIndex, which uses dates from the standard calendar.  This may lead to subtle errors in operations that depend on the length of time between dates.\n",
      "/glade/work/samantha/npl_clone_16sep2021/lib/python3.7/site-packages/ipykernel_launcher.py:122: RuntimeWarning: Converting a CFTimeIndex with dates from a non-standard calendar, 'noleap', to a pandas.DatetimeIndex, which uses dates from the standard calendar.  This may lead to subtle errors in operations that depend on the length of time between dates.\n",
      " 29%|██▊       | 4/14 [04:34<11:50, 71.08s/it]"
     ]
    },
    {
     "name": "stdout",
     "output_type": "stream",
     "text": [
      "cesm2_lens\n"
     ]
    },
    {
     "name": "stderr",
     "output_type": "stream",
     "text": [
      "/glade/work/samantha/npl_clone_16sep2021/lib/python3.7/site-packages/ipykernel_launcher.py:118: RuntimeWarning: Converting a CFTimeIndex with dates from a non-standard calendar, 'noleap', to a pandas.DatetimeIndex, which uses dates from the standard calendar.  This may lead to subtle errors in operations that depend on the length of time between dates.\n",
      "/glade/work/samantha/npl_clone_16sep2021/lib/python3.7/site-packages/ipykernel_launcher.py:120: RuntimeWarning: Converting a CFTimeIndex with dates from a non-standard calendar, 'noleap', to a pandas.DatetimeIndex, which uses dates from the standard calendar.  This may lead to subtle errors in operations that depend on the length of time between dates.\n",
      "/glade/work/samantha/npl_clone_16sep2021/lib/python3.7/site-packages/ipykernel_launcher.py:122: RuntimeWarning: Converting a CFTimeIndex with dates from a non-standard calendar, 'noleap', to a pandas.DatetimeIndex, which uses dates from the standard calendar.  This may lead to subtle errors in operations that depend on the length of time between dates.\n",
      " 36%|███▌      | 5/14 [07:02<14:08, 94.26s/it]"
     ]
    },
    {
     "name": "stdout",
     "output_type": "stream",
     "text": [
      "csiro_mk36_lens\n"
     ]
    },
    {
     "name": "stderr",
     "output_type": "stream",
     "text": [
      " 43%|████▎     | 6/14 [08:10<11:30, 86.28s/it]"
     ]
    },
    {
     "name": "stdout",
     "output_type": "stream",
     "text": [
      "ec-earth3_lens\n"
     ]
    },
    {
     "name": "stderr",
     "output_type": "stream",
     "text": [
      " 50%|█████     | 7/14 [09:39<10:09, 87.03s/it]"
     ]
    },
    {
     "name": "stdout",
     "output_type": "stream",
     "text": [
      "gfdl_cm3_lens\n"
     ]
    },
    {
     "name": "stderr",
     "output_type": "stream",
     "text": [
      "/glade/work/samantha/npl_clone_16sep2021/lib/python3.7/site-packages/ipykernel_launcher.py:118: RuntimeWarning: Converting a CFTimeIndex with dates from a non-standard calendar, 'noleap', to a pandas.DatetimeIndex, which uses dates from the standard calendar.  This may lead to subtle errors in operations that depend on the length of time between dates.\n",
      "/glade/work/samantha/npl_clone_16sep2021/lib/python3.7/site-packages/ipykernel_launcher.py:120: RuntimeWarning: Converting a CFTimeIndex with dates from a non-standard calendar, 'noleap', to a pandas.DatetimeIndex, which uses dates from the standard calendar.  This may lead to subtle errors in operations that depend on the length of time between dates.\n",
      "/glade/work/samantha/npl_clone_16sep2021/lib/python3.7/site-packages/ipykernel_launcher.py:122: RuntimeWarning: Converting a CFTimeIndex with dates from a non-standard calendar, 'noleap', to a pandas.DatetimeIndex, which uses dates from the standard calendar.  This may lead to subtle errors in operations that depend on the length of time between dates.\n",
      " 57%|█████▋    | 8/14 [10:25<07:28, 74.70s/it]"
     ]
    },
    {
     "name": "stdout",
     "output_type": "stream",
     "text": [
      "gfdl_esm2m_v2_lens\n"
     ]
    },
    {
     "name": "stderr",
     "output_type": "stream",
     "text": [
      "/glade/work/samantha/npl_clone_16sep2021/lib/python3.7/site-packages/ipykernel_launcher.py:118: RuntimeWarning: Converting a CFTimeIndex with dates from a non-standard calendar, 'noleap', to a pandas.DatetimeIndex, which uses dates from the standard calendar.  This may lead to subtle errors in operations that depend on the length of time between dates.\n",
      "/glade/work/samantha/npl_clone_16sep2021/lib/python3.7/site-packages/ipykernel_launcher.py:120: RuntimeWarning: Converting a CFTimeIndex with dates from a non-standard calendar, 'noleap', to a pandas.DatetimeIndex, which uses dates from the standard calendar.  This may lead to subtle errors in operations that depend on the length of time between dates.\n",
      "/glade/work/samantha/npl_clone_16sep2021/lib/python3.7/site-packages/ipykernel_launcher.py:122: RuntimeWarning: Converting a CFTimeIndex with dates from a non-standard calendar, 'noleap', to a pandas.DatetimeIndex, which uses dates from the standard calendar.  This may lead to subtle errors in operations that depend on the length of time between dates.\n",
      " 64%|██████▍   | 9/14 [11:36<06:07, 73.53s/it]"
     ]
    },
    {
     "name": "stdout",
     "output_type": "stream",
     "text": [
      "gfdl_spear_lens\n"
     ]
    },
    {
     "name": "stderr",
     "output_type": "stream",
     "text": [
      " 71%|███████▏  | 10/14 [12:38<04:41, 70.31s/it]"
     ]
    },
    {
     "name": "stdout",
     "output_type": "stream",
     "text": [
      "ipsl_cm6a_lens\n"
     ]
    },
    {
     "name": "stderr",
     "output_type": "stream",
     "text": [
      " 79%|███████▊  | 11/14 [13:38<03:21, 67.16s/it]"
     ]
    },
    {
     "name": "stdout",
     "output_type": "stream",
     "text": [
      "miroc6_lens\n"
     ]
    },
    {
     "name": "stderr",
     "output_type": "stream",
     "text": [
      " 86%|████████▌ | 12/14 [15:16<02:32, 76.37s/it]"
     ]
    },
    {
     "name": "stdout",
     "output_type": "stream",
     "text": [
      "miroc_esm2l_lens\n"
     ]
    },
    {
     "name": "stderr",
     "output_type": "stream",
     "text": [
      " 93%|█████████▎| 13/14 [16:14<01:10, 70.82s/it]"
     ]
    },
    {
     "name": "stdout",
     "output_type": "stream",
     "text": [
      "mpi_lens\n"
     ]
    }
   ],
   "source": [
    "ens_n34std_arr=[]\n",
    "ens_zdiff_arr=[]\n",
    "\n",
    "for m in tqdm(range(len(mods))):  \n",
    "    print(mods[m])\n",
    "    epsst=[]\n",
    "    wpsst=[]\n",
    "    n34sst=[]    \n",
    "\n",
    "    if not \"access\" in mods[m]:\n",
    "        # directories with processed output\n",
    "        basedir_processed_MMLEA = '/glade/work/sasanch/ENSOworkshop/'\n",
    "    else:\n",
    "        basedir_processed_MMLEA = '/glade/campaign/cgd/cas/nmaher/'\n",
    "    \n",
    "    if not \"gfdl_cm3\" in mods[m]:\n",
    "        moddir=basedir_processed_MMLEA+mods[m]+'/Omon/tos/'\n",
    "        moddirssp=moddir\n",
    "        f=os.listdir(basedir_processed_MMLEA+mods[m]+'/Omon/tos/')\n",
    "        hfiles=[h for h in f if \"historical\" in h]\n",
    "        \n",
    "        if \"cesm2\" in mods[m]:\n",
    "            hfiles=[h for h in f if \"BHIST\" in h]\n",
    "    else:\n",
    "        moddir=basedir_processed_MMLEA+mods[m]+'/Amon/ts/'\n",
    "        moddirssp=moddir\n",
    "        f=os.listdir(basedir_processed_MMLEA+mods[m]+'/Amon/ts/')\n",
    "        hfiles=[h for h in f if \"historical\" in h]\n",
    "            \n",
    "    #print(hfiles)\n",
    "    \n",
    "    for hf in hfiles:\n",
    "        # Determine whether to include this member based on whether it has both a historical and an SSP portion                     \n",
    "        txt=hf.split(\"_\")\n",
    "        if ((\"historical\" in txt) and (\"rcp85\" in txt)) or ((\"historical\" in txt) and (\"ssp370\" in txt or \"ssp585\" in txt or \"SSP585\" in txt or \"SSP370\" in txt)):\n",
    "            mem=txt[5]\n",
    "        elif \"cesm2\" in mods[m]:\n",
    "            txt=hf.split(\".\")\n",
    "            mem=txt[4]+'.'+txt[5]\n",
    "        else:\n",
    "            mem=txt[4] \n",
    "                    \n",
    "        if (\"canesm5\" in mods[m]) or (\"access\" in mods[m]) or (\"ipsl\" in mods[m]):\n",
    "            hfut=[h for h in f if mem in h and \"ssp370\" in h]    \n",
    "        elif \"cesm2\" in mods[m]:\n",
    "            hfut=[h for h in f if mem in h and \"SSP370\" in h]\n",
    "        else:\n",
    "            hfut=[h for h in f if mem in h and (\"ssp585\" in h or \"rcp85\" in h or \"SSP585\" in h)]    \n",
    "                \n",
    "        if hfut:\n",
    "            hfssp=hfut[0]\n",
    "            \n",
    "            # READ IN HISTORICAL DATA\n",
    "            if not \"gfdl_cm3\" in mods[m]:\n",
    "                mytos=xr.open_dataset(moddir+hf).tos.squeeze()\n",
    "            else:\n",
    "                mytos=xr.open_dataset(moddir+hf).ts.squeeze()\n",
    "\n",
    "            # Eastern Pacific\n",
    "            mask_lon = (mytos.lon >= 210) & (mytos.lon <= 270)\n",
    "            mask_lat = (mytos.lat >= -5) & (mytos.lat <= 5)\n",
    "            hep=mytos.where(mask_lon & mask_lat, drop=True).mean('lat').mean('lon').squeeze()\n",
    "                            \n",
    "            # Western Pacific\n",
    "            mask_lon = (mytos.lon >= 120) & (mytos.lon <= 180)\n",
    "            hwp=mytos.where(mask_lon & mask_lat, drop=True).mean('lat').mean('lon').squeeze()\n",
    "        \n",
    "            # NINO3 \n",
    "            mask_lon = (mytos.lon >= 210) & (mytos.lon <= 270)\n",
    "            mask_lat = (mytos.lat >= -5) & (mytos.lat <= 5)\n",
    "            hn34=mytos.where(mask_lon & mask_lat, drop=True).mean('lat').mean('lon').squeeze()\n",
    "\n",
    "            if not hfssp == hf:\n",
    "                # READ IN SSP DATA\n",
    "                if not \"gfdl_cm3\" in mods[m]:\n",
    "                    mytos=xr.open_dataset(moddirssp+hfssp).tos.squeeze()\n",
    "                else:\n",
    "                    mytos=xr.open_dataset(moddirssp+hfssp).ts.squeeze()\n",
    "\n",
    "                # Eastern Pacific\n",
    "                mask_lon = (mytos.lon >= 210) & (mytos.lon <= 270)\n",
    "                mask_lat = (mytos.lat >= -5) & (mytos.lat <= 5)\n",
    "                sspep=mytos.where(mask_lon & mask_lat, drop=True).mean('lat').mean('lon').squeeze()\n",
    "        \n",
    "                # Western Pacific\n",
    "                mask_lon = (mytos.lon >= 120) & (mytos.lon <= 180)\n",
    "                sspwp=mytos.where(mask_lon & mask_lat, drop=True).mean('lat').mean('lon').squeeze()\n",
    "        \n",
    "                # NINO3.4 \n",
    "                mask_lon = (mytos.lon >= 190) & (mytos.lon <= 240)\n",
    "                mask_lat = (mytos.lat >= -5) & (mytos.lat <= 5)\n",
    "                sspn34=mytos.where(mask_lon & mask_lat, drop=True).mean('lat').mean('lon').squeeze()\n",
    "            \n",
    "                hep=xr.concat([hep,sspep],dim=\"time\")\n",
    "                hwp=xr.concat([hwp,sspwp],dim=\"time\")\n",
    "                hn34=xr.concat([hn34,sspn34],dim=\"time\")\n",
    "        \n",
    "            epsst.append(hep)\n",
    "            wpsst.append(hwp)\n",
    "            n34sst.append(hn34)\n",
    "            \n",
    "    if len(epsst) > 0:    \n",
    "        # Make xarray DataArrays if data actually exists\n",
    "        ens_ep=xr.concat(epsst,dim='member')\n",
    "        ens_wp=xr.concat(wpsst,dim='member')\n",
    "        ens_n34=xr.concat(n34sst,dim='member')\n",
    "    \n",
    "        # Remove ensemble mean from NINO3.4, to allow computation of variance\n",
    "        ens_n34=ens_n34-ens_n34.mean('member')\n",
    "        \n",
    "        # Calculate differences from the reference period     \n",
    "        tmpn34std=np.zeros((len(hep)))\n",
    "        tmpzdiff=np.zeros((len(hep)))\n",
    "        \n",
    "        # Convert calendars\n",
    "        if \"cesm\" in mods[m] or \"canesm\" in mods[m] or \"gfdl\" in mods[m] and not \"gfdl_spear\" in mods[m]:\n",
    "            resampled = ens_n34.resample(time=\"MS\").mean()\n",
    "            ens_n34['time'] = resampled.indexes[\"time\"].to_datetimeindex()\n",
    "            resampled = ens_ep.resample(time=\"MS\").mean()\n",
    "            ens_ep['time']=resampled.indexes['time'].to_datetimeindex()\n",
    "            resampled = ens_wp.resample(time=\"MS\").mean()\n",
    "            ens_wp['time']=resampled.indexes['time'].to_datetimeindex()\n",
    "            \n",
    "        # Subtract rolling 30-year climatology from NINO3.4 to get NINO3.4 SSTA\n",
    "        ens_n34tmp=ens_n34\n",
    "        for t in range(len(ens_n34tmp.time)-windlen):\n",
    "            if t <= len(ens_n34tmp.time)-windlen:\n",
    "                clim=ens_n34tmp[:,t:(t+windlen)].groupby('time.month').mean()\n",
    "                ens_n34[:,t:(t+windlen)]=ens_n34tmp[:,t:(t+windlen)].groupby('time.month')-clim\n",
    "            else:\n",
    "                clim=ens_n34tmp[:,len(ens_n34tmp.time)-windlen,len(ens_n34tmp.time)-1].groupby('time.month').mean()\n",
    "                ens_n34[:,t:(t+windlen)]=ens_n34tmp[:,t:(t+windlen)].groupby('time.month')-clim\n",
    "        \n",
    "        # Take DJF mean\n",
    "        tmpdjf=ens_n34.resample(time='QS-DEC').mean(dim=\"time\")\n",
    "        tmpdjf=tmpdjf.where(tmpdjf.time.dt.month == 12,drop=\"True\")\n",
    "        ens_n34_djf=tmpdjf[:,1:]\n",
    "        \n",
    "        tmpdjf=ens_ep.resample(time='QS-DEC').mean(dim=\"time\")\n",
    "        tmpdjf=tmpdjf.where(tmpdjf.time.dt.month == 12,drop=\"True\")\n",
    "        ens_ep_djf=tmpdjf[:,1:]\n",
    "        \n",
    "        tmpdjf=ens_wp.resample(time='QS-DEC').mean(dim=\"time\")\n",
    "        tmpdjf=tmpdjf.where(tmpdjf.time.dt.month == 12,drop=\"True\")\n",
    "        ens_wp_djf=tmpdjf[:,1:]\n",
    "        \n",
    "        # Calculate changes in NINO3.4 standard deviation, zonal SST gradient\n",
    "        tmpn34std=ens_n34_djf.sel(time=slice(str(end_int[0])+'-01-01',str(end_int[1])+'-12-31')).std('time').squeeze() - ens_n34_djf.sel(time=slice(str(st_int[0])+'-01-01',str(st_int[1])+'-12-31')).std('time').squeeze() \n",
    "        tmp_zdiff_early=ens_ep_djf.sel(time=slice(str(st_int[0])+'-01-01',str(st_int[1])+'-12-31')).mean('time').squeeze() - ens_wp_djf.sel(time=slice(str(st_int[0])+'-01-01',str(st_int[1])+'-12-31')).mean('time').squeeze()\n",
    "        tmp_zdiff_late=ens_ep_djf.sel(time=slice(str(end_int[0])+'-01-01',str(end_int[1])+'-12-31')).mean('time').squeeze() - ens_wp_djf.sel(time=slice(str(end_int[0])+'-01-01',str(end_int[1])+'-12-31')).mean('time').squeeze()\n",
    "        \n",
    "        ens_n34std_arr.append(tmpn34std)\n",
    "        ens_zdiff_arr.append(tmp_zdiff_late - tmp_zdiff_early)\n",
    "    "
   ]
  },
  {
   "cell_type": "code",
   "execution_count": null,
   "id": "a684787c-33eb-43b3-86c2-3f328e1f9be3",
   "metadata": {},
   "outputs": [],
   "source": [
    "clim=ens_n34[:,0:360].groupby('time.month').mean()"
   ]
  },
  {
   "cell_type": "code",
   "execution_count": null,
   "id": "3268e892-427b-4560-ba9a-78ce43688391",
   "metadata": {},
   "outputs": [],
   "source": [
    "clim"
   ]
  },
  {
   "cell_type": "code",
   "execution_count": null,
   "id": "2d180e67-67c6-43d0-8da9-f387a40af13d",
   "metadata": {},
   "outputs": [],
   "source": [
    "test=ens_n34.groupby('time.month')-clim"
   ]
  },
  {
   "cell_type": "code",
   "execution_count": null,
   "id": "bf095495-f949-4db4-8cfc-933f6d36ed6f",
   "metadata": {},
   "outputs": [],
   "source": [
    "test"
   ]
  },
  {
   "cell_type": "markdown",
   "id": "f2798f04-1c54-4496-8080-1d232e006956",
   "metadata": {},
   "source": [
    "Now go through and plot the results!!"
   ]
  },
  {
   "cell_type": "code",
   "execution_count": null,
   "id": "b2ef68d0-2c61-4dc4-b83c-b67971e5b44a",
   "metadata": {},
   "outputs": [],
   "source": [
    "plt.figure(figsize=(10, 6), dpi=300)\n",
    "\n",
    "sym=['o','s','^','p','<','d','x','o','s','^','p','<','d','x']\n",
    "for m in range(len(mods)):\n",
    "    ztmp=-1*ens_zdiff_arr[m]\n",
    "    ntmp=ens_n34std_arr[m]\n",
    "    plt.plot(ztmp,ntmp,sym[m])\n",
    "        \n",
    "plt.title('Change in ENSO vs. change in zonal SST gradient')\n",
    "plt.ylabel('NINO3.4 std. dev (C)')\n",
    "plt.xlabel('Zonal SST difference')\n",
    "plt.ylim([-0.6,0.7])\n",
    "plt.xlim([-1.5,0.5])\n",
    "\n",
    "#plt.legend(modscaps,loc='lower left outside')\n",
    "\n",
    "plt.savefig(plotdir+'deltaNINO34stddev_vsdeltazonalgrad_'+str(st_int[0])+'-'+str(st_int[1])+'_vs_'+str(end_int[0])+'-'+str(end_int[1])+'.pdf', format='pdf', bbox_inches='tight', dpi=300)"
   ]
  },
  {
   "cell_type": "code",
   "execution_count": null,
   "id": "50b68133-0029-4ff2-890b-faf25e67f0be",
   "metadata": {},
   "outputs": [],
   "source": []
  },
  {
   "cell_type": "code",
   "execution_count": null,
   "id": "bf415df8-e348-4f52-ace6-51124623abe4",
   "metadata": {},
   "outputs": [],
   "source": [
    "plotdir"
   ]
  },
  {
   "cell_type": "code",
   "execution_count": null,
   "id": "3007d608-ac4a-487f-a6d7-0555f356c6f0",
   "metadata": {},
   "outputs": [],
   "source": []
  },
  {
   "cell_type": "code",
   "execution_count": null,
   "id": "0a925a26-6cc1-465b-8f18-d85cd9ab95f7",
   "metadata": {},
   "outputs": [],
   "source": []
  },
  {
   "cell_type": "code",
   "execution_count": null,
   "id": "3dbe0772-a378-4ce5-ad71-7c502e422ee1",
   "metadata": {},
   "outputs": [],
   "source": []
  }
 ],
 "metadata": {
  "kernelspec": {
   "display_name": "NPL3 (npl_clone_16sep2021)",
   "language": "python",
   "name": "npl3-npl_clone_16sep2021"
  },
  "language_info": {
   "codemirror_mode": {
    "name": "ipython",
    "version": 3
   },
   "file_extension": ".py",
   "mimetype": "text/x-python",
   "name": "python",
   "nbconvert_exporter": "python",
   "pygments_lexer": "ipython3",
   "version": "3.7.9"
  }
 },
 "nbformat": 4,
 "nbformat_minor": 5
}
